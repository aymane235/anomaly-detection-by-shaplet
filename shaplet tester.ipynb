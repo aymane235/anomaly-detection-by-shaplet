{
 "cells": [
  {
   "cell_type": "code",
   "execution_count": null,
   "id": "db134ad5-d85f-42d2-bf80-85cf4324d614",
   "metadata": {},
   "outputs": [],
   "source": [
    "import importlib\n",
    "import utilities\n",
    "%run classes.ipynb\n",
    "\n",
    "import numpy as np\n",
    "import seaborn as sns\n",
    "import matplotlib.pyplot as plt\n",
    "import mplcursors\n",
    "import pandas as pd\n",
    "from matplotlib.lines import Line2D\n",
    "from scipy.stats import linregress \n",
    "from scipy.fft import fft, rfft,fftshift\n",
    "from scipy.fft import fftfreq, rfftfreq\n",
    "import scipy.signal as sig\n",
    "from scipy.fft import fft, rfft,fftshift\n",
    "from scipy.fft import fftfreq, rfftfreq\n",
    "import sys\n",
    "import pickle\n"
   ]
  },
  {
   "cell_type": "markdown",
   "id": "294d1547-7ca2-475f-a8f2-ff6c62b8e13f",
   "metadata": {},
   "source": [
    "#### start index= 362\n",
    "#### end index= 976\n",
    "#### length= 614"
   ]
  },
  {
   "cell_type": "markdown",
   "id": "a661fb1b-5e8d-4ec6-baa3-9f942b2d1a07",
   "metadata": {},
   "source": [
    "### ------------------------------------------------------------\n",
    "#### second shaplet: start index=294\n",
    "#### length=597\n",
    "\n",
    "### ------------------------------------------------------"
   ]
  },
  {
   "cell_type": "code",
   "execution_count": null,
   "id": "65fd2b50-da3c-4018-99c8-04d04af5fe14",
   "metadata": {},
   "outputs": [],
   "source": []
  },
  {
   "cell_type": "markdown",
   "id": "da980722-89f7-4040-aeba-da9de572fc36",
   "metadata": {},
   "source": [
    "# NEED TO COUNT TWO PATHOLOGICAL CASES: ONE WHERE THE LENGTH OF LOW IS LESS THAN SHAPLET AND THE OTHER WHERE ORDER > LEN(LOW)-LEN(SHAPLET)"
   ]
  },
  {
   "cell_type": "code",
   "execution_count": null,
   "id": "ec0b9f98-a662-4dbf-aece-6b872b6275f1",
   "metadata": {},
   "outputs": [],
   "source": [
    "loadreleaseshaplet=Shaplet(181,\"low\",362,614)\n",
    "maxmaxshaplet=Shaplet(181,\"low\",294,597)\n",
    "releaseshaplet=Shaplet(-1,-1,-1,-1,series=loadreleaseshaplet.series[-300:])"
   ]
  },
  {
   "cell_type": "code",
   "execution_count": null,
   "id": "49da97a0-97d7-4fac-94f8-cdd67b2f5efb",
   "metadata": {},
   "outputs": [],
   "source": [
    "key2class=utilities.loadjson(\"key2class\")\n",
    "class2key=utilities.loadjson(\"class2key\")"
   ]
  },
  {
   "cell_type": "code",
   "execution_count": null,
   "id": "f40891d3-ea0b-4c8d-a1d2-cc3e8f82fc4a",
   "metadata": {},
   "outputs": [],
   "source": [
    "visualizer=Visualizer()\n",
    "visualizer.shownormalizedlow(Data(100))"
   ]
  },
  {
   "cell_type": "code",
   "execution_count": null,
   "id": "3ddccc5c-c184-4f22-8307-b6d10a78d8b6",
   "metadata": {},
   "outputs": [],
   "source": [
    "visualizer=Visualizer()\n",
    "visualizer.shownormalizedlow(Data(181))"
   ]
  },
  {
   "cell_type": "markdown",
   "id": "11b16fbc-0a58-445b-99f8-56856ae5293c",
   "metadata": {},
   "source": [
    "### Summary histogram of minimas and summary table construction"
   ]
  },
  {
   "cell_type": "code",
   "execution_count": null,
   "id": "6f60a98f-3ad7-41f1-88e8-bc93f6c0b2f0",
   "metadata": {},
   "outputs": [],
   "source": [
    "comparators=comparewith(range(0,571),\"low\",loadreleaseshaplet)"
   ]
  },
  {
   "cell_type": "code",
   "execution_count": null,
   "id": "8176674c-45ea-45fa-82b1-a5f6de43d930",
   "metadata": {},
   "outputs": [],
   "source": [
    "histmins=[]\n",
    "for comparator in comparators:\n",
    "    histmins.append(comparator.min())\n",
    "histmins=np.array(histmins)"
   ]
  },
  {
   "cell_type": "code",
   "execution_count": null,
   "id": "23bed707-31ac-41da-b847-22273c7ae599",
   "metadata": {},
   "outputs": [],
   "source": [
    "len(histmins)"
   ]
  },
  {
   "cell_type": "code",
   "execution_count": null,
   "id": "e9024b3e-5a37-445b-8f49-70c2e169dedb",
   "metadata": {},
   "outputs": [],
   "source": [
    "plt.figure()\n",
    "plt.title(\"\n",
    "plt.hist(histmins)\n",
    "plt.show()"
   ]
  },
  {
   "cell_type": "code",
   "execution_count": null,
   "id": "e215c0f4-83ba-4622-a0ad-cc046e1243cc",
   "metadata": {},
   "outputs": [],
   "source": [
    "plt.figure()\n",
    "plt.hist(histmins[histmins<=10])\n",
    "plt.show()"
   ]
  },
  {
   "cell_type": "markdown",
   "id": "3b4d7dd1-afa6-4d54-91c2-ca9cf7e7f060",
   "metadata": {},
   "source": [
    "# Display for rhos min max and efficient: "
   ]
  },
  {
   "cell_type": "code",
   "execution_count": null,
   "id": "0c12f738-16f7-4a79-93dc-689c06646a5a",
   "metadata": {},
   "outputs": [],
   "source": [
    "maxmaxcomparators=comparewith(class2key[\"rho\"],\"low\",maxmaxshaplet)"
   ]
  },
  {
   "cell_type": "code",
   "execution_count": null,
   "id": "ac9779a8-20a1-46cb-bdef-d3508bd07e07",
   "metadata": {},
   "outputs": [],
   "source": [
    "maxmaxscaled=scaledcomparewith(class2key[\"rho\"],\"low\",maxmaxshaplet)"
   ]
  },
  {
   "cell_type": "code",
   "execution_count": null,
   "id": "25d81570-1bdc-41be-8b3b-a6ed7b0853cb",
   "metadata": {},
   "outputs": [],
   "source": [
    "loadreleasecomparators=comparewith(class2key[\"rho\"],\"low\",loadreleaseshaplet)\n",
    "loadreleasescaled=scaledcomparewith(class2key[\"rho\"],\"low\",loadreleaseshaplet)"
   ]
  },
  {
   "cell_type": "code",
   "execution_count": null,
   "id": "8e861ffe-d841-4b20-9ca8-af3cc052b2ff",
   "metadata": {},
   "outputs": [],
   "source": [
    "releasecomparators=comparewith(class2key[\"rho\"],\"low\",releaseshaplet)\n",
    "releasescaled=scaledcomparewith(class2key[\"rho\"],\"low\",releaseshaplet)"
   ]
  },
  {
   "cell_type": "code",
   "execution_count": null,
   "id": "2b1a5284-1192-4947-a0f1-3fa1bbbe806b",
   "metadata": {},
   "outputs": [],
   "source": [
    "maxmaxdf=minmaxefficient(range(len(class2key[\"rho\"])),maxmaxcomparators)"
   ]
  },
  {
   "cell_type": "code",
   "execution_count": null,
   "id": "2a634a3e-b20d-434a-9469-4c560e7817c5",
   "metadata": {},
   "outputs": [],
   "source": [
    "loadreleasedf=minmaxefficient(range(len(class2key[\"rho\"])),loadreleasecomparators)"
   ]
  },
  {
   "cell_type": "code",
   "execution_count": null,
   "id": "836affce-aa82-44b6-ae02-11e471be435c",
   "metadata": {},
   "outputs": [],
   "source": [
    "releasedf=minmaxefficient(range(len(class2key[\"rho\"])),releasecomparators)"
   ]
  },
  {
   "cell_type": "code",
   "execution_count": null,
   "id": "6dd072f9-aae6-40ab-ab10-59813f3cd63e",
   "metadata": {},
   "outputs": [],
   "source": [
    "maxmaxdf[\"index\"]=class2key[\"rho\"]\n",
    "releasedf[\"index\"]=class2key[\"rho\"]\n",
    "loadreleasedf[\"index\"]=class2key[\"rho\"]"
   ]
  },
  {
   "cell_type": "code",
   "execution_count": null,
   "id": "e34a338c-fc9b-47fb-ab59-f34c762bb918",
   "metadata": {},
   "outputs": [],
   "source": [
    "from IPython.core.display import display, HTML\n",
    "\n",
    "# Display maxmaxdf, loadreleasedf, and releasedf side by side with titles\n",
    "display(HTML(f\"\"\"\n",
    "    <div style=\"display: flex; justify-content: space-between;\">\n",
    "        <div style=\"margin-right: 20px;\">\n",
    "            <h3>maxmaxdf</h3>\n",
    "            {maxmaxdf.to_html()}\n",
    "        </div>\n",
    "        <div style=\"margin-right: 20px;\">\n",
    "            <h3>loadreleasedf</h3>\n",
    "            {loadreleasedf.to_html()}\n",
    "        </div>\n",
    "        <div>\n",
    "            <h3>releasedf</h3>\n",
    "            {releasedf.to_html()}\n",
    "        </div>\n",
    "    </div>\n",
    "\"\"\"))\n"
   ]
  },
  {
   "cell_type": "code",
   "execution_count": null,
   "id": "1eb82759-fe5e-49d2-8c06-c24cbd8fda4f",
   "metadata": {},
   "outputs": [],
   "source": []
  },
  {
   "cell_type": "code",
   "execution_count": null,
   "id": "0156d012-fce8-417e-be15-f5c546ce5600",
   "metadata": {},
   "outputs": [],
   "source": []
  },
  {
   "cell_type": "code",
   "execution_count": null,
   "id": "dcce9478-377d-4c24-922e-0e8c8c0f2d61",
   "metadata": {},
   "outputs": [],
   "source": []
  },
  {
   "cell_type": "code",
   "execution_count": null,
   "id": "4d53c735-e651-4441-bdbe-89b4e63602fa",
   "metadata": {},
   "outputs": [],
   "source": [
    "plt.figure()\n",
    "index=22\n",
    "plt.title(\"both shaplets chi2 for lc #\"+str(class2key[\"rho\"][index]))\n",
    "plt.plot(np.arange(len(maxmaxscaled[index].chi2()))/8,maxmaxscaled[index].chi2(),label=\"u scaled shaplet chi2\")\n",
    "plt.plot(np.arange(len(loadreleasescaled[index].chi2()))/8,loadreleasescaled[index].chi2(),label=\"loadrelease scaled shaplet chi2\")\n",
    "plt.xlabel(\"windowing start time in s\")\n",
    "plt.ylabel(\"chi2\")\n",
    "plt.legend()\n",
    "plt.plot()"
   ]
  },
  {
   "cell_type": "code",
   "execution_count": null,
   "id": "d7e1c2fc-c3d7-46b6-8627-82be1cc873e0",
   "metadata": {},
   "outputs": [],
   "source": [
    "visualizer=Visualizer()"
   ]
  },
  {
   "cell_type": "code",
   "execution_count": null,
   "id": "7c284693-cc2e-4d79-815c-5caf213f9a21",
   "metadata": {},
   "outputs": [],
   "source": [
    "visualizer.superpose(loadreleasescaled[22])"
   ]
  },
  {
   "cell_type": "code",
   "execution_count": null,
   "id": "ab6ab4e1-dbc4-458c-9821-84f3ea59aec0",
   "metadata": {},
   "outputs": [],
   "source": [
    "loadreleasescaled[22].alpha"
   ]
  },
  {
   "cell_type": "code",
   "execution_count": null,
   "id": "f1bf8659-87fc-4ba2-b8bc-fa24121040ea",
   "metadata": {},
   "outputs": [],
   "source": [
    "visualizer.superpose(maxmaxcomparators[0])"
   ]
  },
  {
   "cell_type": "code",
   "execution_count": null,
   "id": "5750da3a-896c-41f5-b910-a13dd97e16a3",
   "metadata": {},
   "outputs": [],
   "source": [
    "visualizer.showchi2(releasescaled[22])"
   ]
  },
  {
   "cell_type": "code",
   "execution_count": null,
   "id": "7754792d-21d6-460a-a98f-8b403d5b75a4",
   "metadata": {},
   "outputs": [],
   "source": [
    "visualizer.scaledsuperpose(releasecomparators[22])"
   ]
  },
  {
   "cell_type": "code",
   "execution_count": null,
   "id": "abe61e11-8614-4847-b3aa-233556518d29",
   "metadata": {},
   "outputs": [],
   "source": [
    "visualizer.showscaledchi2(releasecomparators[22])"
   ]
  },
  {
   "cell_type": "code",
   "execution_count": null,
   "id": "8a251541-7a5d-4b7c-8e23-f4aa21ba6873",
   "metadata": {},
   "outputs": [],
   "source": [
    "plt.figure()\n",
    "visualizer.showchi2(releasecomparators[0])"
   ]
  },
  {
   "cell_type": "markdown",
   "id": "f3a5a961-57f8-4b85-a6d8-622f38174363",
   "metadata": {},
   "source": [
    "# testing the superposition"
   ]
  },
  {
   "cell_type": "code",
   "execution_count": null,
   "id": "2ce5bfd1-14ee-40c3-94ca-724349175e11",
   "metadata": {},
   "outputs": [],
   "source": [
    "maxmaxcomparators[0].data.lcnumber"
   ]
  },
  {
   "cell_type": "code",
   "execution_count": null,
   "id": "9d9b38f6-cf70-4acb-874c-28d23d58091e",
   "metadata": {},
   "outputs": [],
   "source": [
    "visualizer.scaledsuperpose(maxmaxcomparators[0])"
   ]
  },
  {
   "cell_type": "code",
   "execution_count": null,
   "id": "a21a536b-1519-4171-8d9e-0ff80d19d249",
   "metadata": {},
   "outputs": [],
   "source": [
    "visualizer.superpose(maxmaxcomparators[0])"
   ]
  },
  {
   "cell_type": "code",
   "execution_count": null,
   "id": "90e2f053-26cc-423a-b954-00137446d9d5",
   "metadata": {},
   "outputs": [],
   "source": [
    "visualizer.showchi2(maxmaxcomparators[0])"
   ]
  },
  {
   "cell_type": "code",
   "execution_count": null,
   "id": "6ab8c984-dece-43b3-85d7-10f81d64ef10",
   "metadata": {},
   "outputs": [],
   "source": [
    "plt.figure()\n",
    "plt.plot(np.arange(len(maxmaxcomparators[0].alpha))/8,maxmaxcomparators[0].alpha)\n",
    "plt.show()"
   ]
  },
  {
   "cell_type": "code",
   "execution_count": null,
   "id": "4dc60de3-7e40-4d11-9dc5-101d831ee03f",
   "metadata": {},
   "outputs": [],
   "source": [
    "maxmaxcomparators[0].alpha[294]"
   ]
  },
  {
   "cell_type": "code",
   "execution_count": null,
   "id": "ac41f5c8-6dbb-4e1d-b784-b985803ff777",
   "metadata": {},
   "outputs": [],
   "source": [
    "maxmaxcomparators[0].scaledchi2()"
   ]
  },
  {
   "cell_type": "code",
   "execution_count": null,
   "id": "fb0947a7-1384-4964-bc6c-96418d5daf54",
   "metadata": {},
   "outputs": [],
   "source": [
    "#Run FFT on lc181"
   ]
  },
  {
   "cell_type": "code",
   "execution_count": null,
   "id": "3849ae3b-1a84-4213-8668-59de322b042f",
   "metadata": {},
   "outputs": [],
   "source": [
    "l=utilities.get_low(181)"
   ]
  },
  {
   "cell_type": "code",
   "execution_count": null,
   "id": "337f3d44-0a40-43e9-b49f-e29b5117e904",
   "metadata": {},
   "outputs": [],
   "source": [
    "%matplotlib widget\n",
    "fourier = fftshift(fft(l))\n",
    "\n",
    "freqs = np.fft.fftshift(np.fft.fftfreq(len(l)))\n",
    "fourier=fourier[freqs>0]\n",
    "freqs=freqs[freqs>0]\n",
    "plt.figure()\n",
    "\n",
    "plt.loglog(freqs, np.abs(fourier)**2)\n",
    "#plt.xlim(0.01)\n",
    "plt.xlabel(\"Frequency\")\n",
    "plt.ylabel(\"Magnitude^2\")\n",
    "#plt.yscale(\"log\")\n",
    "plt.title(\"FFT result for the low component of the light curve 181,class rho\")\n",
    "plt.show()"
   ]
  },
  {
   "cell_type": "markdown",
   "id": "2a79796c-9041-4ee9-8416-e349daceac97",
   "metadata": {},
   "source": [
    "# Shaplet cleaning and normalization results"
   ]
  },
  {
   "cell_type": "code",
   "execution_count": null,
   "id": "dd6455f5-600c-4b67-a8ee-a3262cffe40c",
   "metadata": {},
   "outputs": [],
   "source": [
    "s=np.array(maxmaxshaplet.series)\n",
    "counter=0"
   ]
  },
  {
   "cell_type": "code",
   "execution_count": null,
   "id": "7a3f85fa-ec79-4389-8280-a69aa6063187",
   "metadata": {},
   "outputs": [],
   "source": [
    "for comparator in maxmaxcomparators:\n",
    "    if(comparator.min()>2):\n",
    "        pass\n",
    "    else:\n",
    "        for pos in comparator.minimaspositions(2):\n",
    "            s+=np.array(comparator.data.getcolumn(comparator.column)[pos:pos+len(maxmaxshaplet)])\n",
    "            counter+=1"
   ]
  },
  {
   "cell_type": "code",
   "execution_count": null,
   "id": "64491c95-0883-40ef-9151-9ea71630459c",
   "metadata": {},
   "outputs": [],
   "source": [
    "counter"
   ]
  },
  {
   "cell_type": "code",
   "execution_count": null,
   "id": "3a2f466e-10c3-4c69-95ed-32a7cae4c383",
   "metadata": {},
   "outputs": [],
   "source": [
    "s=s/counter"
   ]
  },
  {
   "cell_type": "code",
   "execution_count": null,
   "id": "bab4e2af-394f-4f78-be9d-c5c2838274d3",
   "metadata": {},
   "outputs": [],
   "source": [
    "plt.figure()\n",
    "plt.plot(s)\n",
    "plt.show()"
   ]
  },
  {
   "cell_type": "code",
   "execution_count": null,
   "id": "ba528cc0-d251-4a73-9273-678062b547b3",
   "metadata": {},
   "outputs": [],
   "source": [
    "cleanshaplet=Shaplet(-1,-1,-1,-1,series=s)"
   ]
  },
  {
   "cell_type": "code",
   "execution_count": null,
   "id": "1d80376e-1871-46b5-b93c-dcf2d9460a1c",
   "metadata": {},
   "outputs": [],
   "source": [
    "visualizer=Visualizer()"
   ]
  },
  {
   "cell_type": "code",
   "execution_count": null,
   "id": "6edd4f79-261b-4eec-8b78-0e7588cdca6b",
   "metadata": {},
   "outputs": [],
   "source": [
    "comparator=normalizedComparator(Data(280),\"low\",cleanshaplet)"
   ]
  },
  {
   "cell_type": "code",
   "execution_count": null,
   "id": "64706b94-8ec6-4647-9ef7-929bc8da8dd8",
   "metadata": {},
   "outputs": [],
   "source": [
    "data=Data(100)"
   ]
  },
  {
   "cell_type": "code",
   "execution_count": null,
   "id": "f144533b-92de-4010-9ac2-868f4d20166f",
   "metadata": {},
   "outputs": [],
   "source": [
    "visualizer.showlow(Data(280))"
   ]
  },
  {
   "cell_type": "code",
   "execution_count": null,
   "id": "860e788e-9376-488a-98b4-662ad4482dbc",
   "metadata": {},
   "outputs": [],
   "source": [
    "visualizer.showlow(Data(181))"
   ]
  },
  {
   "cell_type": "code",
   "execution_count": null,
   "id": "f422784d-a5b4-4a67-b002-900510353249",
   "metadata": {},
   "outputs": [],
   "source": [
    "visualizer.shownormalizedlow(data)"
   ]
  },
  {
   "cell_type": "code",
   "execution_count": null,
   "id": "dccd0629-252d-4e1b-8f26-1db245fa426a",
   "metadata": {},
   "outputs": [],
   "source": [
    "visualizer.superpose(comparator)"
   ]
  },
  {
   "cell_type": "code",
   "execution_count": null,
   "id": "ec89994f-7831-4037-a8f3-a7ac0b7656f7",
   "metadata": {},
   "outputs": [],
   "source": [
    "%matplotlib widget\n",
    "visualizer.showchi2(comparator)"
   ]
  },
  {
   "cell_type": "code",
   "execution_count": null,
   "id": "7cc741b0-bef9-4931-ae25-d625f31c963f",
   "metadata": {},
   "outputs": [],
   "source": [
    "visualizer.superpose(maxmaxcomparators[49])"
   ]
  },
  {
   "cell_type": "code",
   "execution_count": null,
   "id": "2918dc93-6729-4130-b556-ddb682e3579b",
   "metadata": {},
   "outputs": [],
   "source": [
    "visualizer.superpose(normalizedComparator(Data(499),\"low\",maxmaxshaplet))"
   ]
  },
  {
   "cell_type": "code",
   "execution_count": null,
   "id": "e9a5f352-4340-4eb8-ae4f-849c5bd9f122",
   "metadata": {},
   "outputs": [],
   "source": [
    "visualizer.showchi2(normalizedComparator(Data(499),\"low\",maxmaxshaplet))"
   ]
  },
  {
   "cell_type": "code",
   "execution_count": null,
   "id": "d769e7a1-c5b9-4712-a99c-6fee149cfe94",
   "metadata": {},
   "outputs": [],
   "source": [
    "np.argmin(data.low()[300:800]) + 300"
   ]
  },
  {
   "cell_type": "code",
   "execution_count": null,
   "id": "4cc16f78-e4c7-43c5-8918-07bc8f6d64e9",
   "metadata": {},
   "outputs": [],
   "source": [
    "np.argmin(data.low()[900:1100])+900"
   ]
  },
  {
   "cell_type": "code",
   "execution_count": null,
   "id": "a49ae4f2-6814-4c77-bd0e-7c2908b55021",
   "metadata": {},
   "outputs": [],
   "source": [
    "shaplet=Shaplet(181,\"low\",362,977)"
   ]
  },
  {
   "cell_type": "code",
   "execution_count": null,
   "id": "91d73dd4-5304-49a8-9e2b-85f143fb8365",
   "metadata": {},
   "outputs": [],
   "source": [
    "d=Data(181)\n",
    "\n",
    "plt.figure()"
   ]
  },
  {
   "cell_type": "code",
   "execution_count": null,
   "id": "86c11602-0087-4967-9f92-6993fdbf9813",
   "metadata": {},
   "outputs": [],
   "source": [
    "shaplet.load(data)"
   ]
  },
  {
   "cell_type": "code",
   "execution_count": null,
   "id": "140da988-9a4f-4515-92e1-91efb2ac0850",
   "metadata": {},
   "outputs": [],
   "source": [
    "#Better define everything in one block for maintanance ease"
   ]
  },
  {
   "cell_type": "code",
   "execution_count": null,
   "id": "24f56131-290b-4797-b927-1ddca42a6bc9",
   "metadata": {},
   "outputs": [],
   "source": []
  }
 ],
 "metadata": {
  "kernelspec": {
   "display_name": "Python 3 (ipykernel)",
   "language": "python",
   "name": "python3"
  },
  "language_info": {
   "codemirror_mode": {
    "name": "ipython",
    "version": 3
   },
   "file_extension": ".py",
   "mimetype": "text/x-python",
   "name": "python",
   "nbconvert_exporter": "python",
   "pygments_lexer": "ipython3",
   "version": "3.10.15"
  },
  "widgets": {
   "application/vnd.jupyter.widget-state+json": {
    "state": {},
    "version_major": 2,
    "version_minor": 0
   }
  }
 },
 "nbformat": 4,
 "nbformat_minor": 5
}
