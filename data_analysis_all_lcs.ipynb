{
 "cells": [
  {
   "cell_type": "code",
   "execution_count": null,
   "id": "939d6690-8ea1-4994-b460-5fa36ddc4844",
   "metadata": {},
   "outputs": [],
   "source": [
    "import numpy as np\n",
    "import seaborn as sns\n",
    "import matplotlib.pyplot as plt\n",
    "import mplcursors\n",
    "%matplotlib inline\n",
    "import pandas as pd\n",
    "from matplotlib.lines import Line2D\n",
    "from scipy.stats import linregress "
   ]
  },
  {
   "cell_type": "code",
   "execution_count": null,
   "id": "cfd6d48b-6279-46e5-ae30-11d12d891899",
   "metadata": {},
   "outputs": [],
   "source": [
    "pd.option_context('display.precision', 10)\n",
    "pd.set_option('display.float_format', '{:.10f}'.format)"
   ]
  },
  {
   "cell_type": "code",
   "execution_count": null,
   "id": "4b18f3c9-6311-410a-a20b-524978b8aa39",
   "metadata": {},
   "outputs": [],
   "source": [
    "mean={\"low\":[],\"mid\":[],\"high\":[]}\n",
    "std={\"low\":[],\"mid\":[],\"high\":[]}\n",
    "time_diff=[]\n",
    "periods=[]\n",
    "end_time=-1\n",
    "classes={}\n",
    "for i in range(571):\n",
    "    # Read the first line of the file\n",
    "    first_line = pd.read_csv(\"classified_lcs\\grs1915_lc\"+str(i)+\".txt\", nrows=1, header=None).iloc[0, 0]\n",
    "\n",
    "    # Extract class name\n",
    "    prefix = \"# class : \"\n",
    "    class_name = first_line[len(prefix):].strip()\n",
    "            \n",
    "    # Add class_name to dictionary if not present, otherwise append index\n",
    "    if class_name not in classes:\n",
    "        classes[class_name] = [i]\n",
    "    else:\n",
    "        classes[class_name].append(i)\n",
    "\n",
    "    df=pd.read_csv(\"classified_lcs\\grs1915_lc\"+str(i)+\".txt\",sep=\"\t\",skiprows=[0, 1], header=None)\n",
    "    if(i!=0):\n",
    "        start_time=df.iloc[0,0]\n",
    "        time_diff.append(start_time-end_time)\n",
    "        \n",
    "    periods.append(abs(df.iloc[0,0]-df.iloc[-1,0]))\n",
    "\n",
    "    \n",
    "    end_time=df.iloc[-1,0]\n",
    "    df.columns = [\"time\", 'total','low','mid','high'] #time in seconds\n",
    "    low=np.array(list(df[\"low\"]))\n",
    "    mid=np.array(list(df[\"mid\"]))\n",
    "    high=np.array(list(df[\"high\"]))\n",
    "    \n",
    "    mean[\"low\"].append(np.mean(low))\n",
    "    mean[\"mid\"].append(np.mean(mid))\n",
    "    mean[\"high\"].append(np.mean(high))\n",
    "\n",
    "    std[\"low\"].append(np.std(low))\n",
    "    std[\"mid\"].append(np.std(mid))\n",
    "    std[\"high\"].append(np.std(high))\n",
    "\n",
    "    lapses=df[\"time\"].values[1:]-df[\"time\"].values[:-1]\n",
    "\n",
    "    if(lapses.min()!=lapses.max()):\n",
    "        print(i)\n",
    "        print(lapses.max())"
   ]
  },
  {
   "cell_type": "code",
   "execution_count": null,
   "id": "52ca4c01-e4a5-44ea-b32c-daa00819dd58",
   "metadata": {},
   "outputs": [],
   "source": [
    "lapses=df[\"time\"].values()[1:]-f[\"time\"].values()[:-1]"
   ]
  },
  {
   "cell_type": "code",
   "execution_count": null,
   "id": "fa469227-e8cf-4f5c-9116-ebcabc249469",
   "metadata": {},
   "outputs": [],
   "source": [
    "for el in classes.keys():\n",
    "    print(el)"
   ]
  },
  {
   "cell_type": "code",
   "execution_count": null,
   "id": "72946f16-5260-4280-804a-91128a25157c",
   "metadata": {},
   "outputs": [],
   "source": [
    "classes[\"rho\"]"
   ]
  },
  {
   "cell_type": "code",
   "execution_count": null,
   "id": "93cfb180-0b27-4736-84aa-f170fbe99fa2",
   "metadata": {},
   "outputs": [],
   "source": [
    "import json\n",
    "# Save dictionary to a JSON file\n",
    "with open(\"classes.json\", \"w\") as f:\n",
    "    json.dump(classes, f, indent=4)  # Pretty-print with indentation\n"
   ]
  },
  {
   "cell_type": "code",
   "execution_count": null,
   "id": "3774c4e7-97b5-40e7-8ca7-b352b9b6b72d",
   "metadata": {},
   "outputs": [],
   "source": [
    "periods[0]"
   ]
  },
  {
   "cell_type": "code",
   "execution_count": null,
   "id": "dc01f808-c416-4e07-aa92-8614f898cd8d",
   "metadata": {},
   "outputs": [],
   "source": [
    "2119.75/0.125"
   ]
  },
  {
   "cell_type": "code",
   "execution_count": null,
   "id": "e23f3909-e48a-4c99-89fa-0d42c147ca15",
   "metadata": {},
   "outputs": [],
   "source": [
    "print(min(periods))\n",
    "print(max(periods))\n",
    "print(np.mean(periods))"
   ]
  },
  {
   "cell_type": "code",
   "execution_count": null,
   "id": "6494570c-6a66-4892-a0c8-1b6e1e2c1540",
   "metadata": {},
   "outputs": [],
   "source": [
    "periods=np.array(periods)\n",
    "numberpts=periods*8\n",
    "l=[2000,5000,7000,10_000,12_000,15_000,17_000,20_000,22_000,25_000]\n",
    "print(\"#position     number of points\")\n",
    "for el in l:\n",
    "    for i in range(len(numberpts)):\n",
    "        if(el-200<numberpts[i]<el+200):\n",
    "            print(i,\" \",numberpts[i])\n",
    "            break"
   ]
  },
  {
   "cell_type": "code",
   "execution_count": null,
   "id": "259436d5-2ead-409d-9d09-8fe463646fc4",
   "metadata": {},
   "outputs": [],
   "source": [
    "plt.hist(np.array(periods)*8,bins=100)\n",
    "plt.show()"
   ]
  },
  {
   "cell_type": "code",
   "execution_count": null,
   "id": "31540687-b997-4e13-b38d-7406bf6bec9d",
   "metadata": {},
   "outputs": [],
   "source": [
    "time_diff"
   ]
  },
  {
   "cell_type": "code",
   "execution_count": null,
   "id": "fcf0039f-d21e-40a8-aad6-ef38554de9fc",
   "metadata": {},
   "outputs": [],
   "source": [
    "plt.hist(time_diff,20)\n",
    "plt.show()"
   ]
  },
  {
   "cell_type": "code",
   "execution_count": null,
   "id": "529ec3cb-c66a-4b67-84c3-56d7a846ea4d",
   "metadata": {},
   "outputs": [],
   "source": [
    "mean[\"low\"]"
   ]
  },
  {
   "cell_type": "code",
   "execution_count": null,
   "id": "2537bf0f-9082-4d9e-8920-6904c9527f33",
   "metadata": {},
   "outputs": [],
   "source": [
    "plt.scatter(mean[\"low\"],np.array(mean[\"mid\"])/np.array(mean[\"low\"]),c=mean[\"high\"],marker=\".\")\n",
    "plt.show()"
   ]
  },
  {
   "cell_type": "code",
   "execution_count": null,
   "id": "54e0318a-0217-48fe-af8b-bd9ab3168944",
   "metadata": {},
   "outputs": [],
   "source": [
    "#based on the graph above: \n",
    "#most lower bund curves:\n",
    "for i in range(len(mean[\"mid\"])):\n",
    "    if(mean[\"low\"][i]<500 and mean[\"mid\"][i]<200):\n",
    "        print(\"lower curve start: \",i)\n",
    "    if(mean[\"low\"][i]>2500 and mean[\"mid\"][i]>400):\n",
    "        print(\"lower line second extrem: \",i)\n",
    "    if(mean[\"low\"][i]>2000 and mean[\"mid\"][i]>600):\n",
    "        print(\"mid curve: \",i)\n",
    "    if(mean[\"low\"][i]>1000 and mean[\"mid\"][i]>1200):\n",
    "        print(\"upper curve: \",i)\n",
    "    if(mean[\"mid\"][i]>1600):\n",
    "        print(\"point in the extrem above 1600 mean mid\", i)\n",
    "    if(mean[\"low\"][i]>3500):\n",
    "        print(\"point in the extrem above 3500 mean mid\", i)"
   ]
  },
  {
   "cell_type": "code",
   "execution_count": null,
   "id": "dc90da0b-0208-4024-bd51-23185da1f6d0",
   "metadata": {},
   "outputs": [],
   "source": [
    "plt.scatter(mean[\"low\"],mean[\"high\"],c=mean[\"mid\"],marker=\".\")\n",
    "plt.show()"
   ]
  },
  {
   "cell_type": "code",
   "execution_count": null,
   "id": "87dfb1b4-202b-4069-80bb-fa45f7dd9d83",
   "metadata": {},
   "outputs": [],
   "source": [
    "plt.scatter(mean[\"high\"],mean[\"mid\"],c=mean[\"low\"],marker=\".\")\n",
    "plt.show()"
   ]
  },
  {
   "cell_type": "code",
   "execution_count": null,
   "id": "f09a5683-2406-4f4a-aca3-27dc18a98fe1",
   "metadata": {},
   "outputs": [],
   "source": [
    "plt.clf()\n",
    "plt.scatter(mean[\"low\"],mean[\"mid\"],c=std[\"mid\"],marker=\".\")\n",
    "plt.show()"
   ]
  },
  {
   "cell_type": "code",
   "execution_count": null,
   "id": "7734f2f9-307e-4a5e-a260-b1c50f3e51c1",
   "metadata": {},
   "outputs": [],
   "source": [
    "\n",
    "    "
   ]
  }
 ],
 "metadata": {
  "kernelspec": {
   "display_name": "Python 3 (ipykernel)",
   "language": "python",
   "name": "python3"
  },
  "language_info": {
   "codemirror_mode": {
    "name": "ipython",
    "version": 3
   },
   "file_extension": ".py",
   "mimetype": "text/x-python",
   "name": "python",
   "nbconvert_exporter": "python",
   "pygments_lexer": "ipython3",
   "version": "3.10.15"
  }
 },
 "nbformat": 4,
 "nbformat_minor": 5
}
