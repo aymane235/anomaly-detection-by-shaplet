{
 "cells": [
  {
   "cell_type": "code",
   "execution_count": null,
   "id": "3ff487b2-62cb-4900-9ab0-7817605a7a31",
   "metadata": {},
   "outputs": [],
   "source": [
    "import importlib\n",
    "import utilities\n",
    "%run classes.ipynb\n",
    "\n",
    "import numpy as np\n",
    "import seaborn as sns\n",
    "import matplotlib.pyplot as plt\n",
    "import mplcursors\n",
    "import pandas as pd\n",
    "from matplotlib.lines import Line2D\n",
    "from scipy.stats import linregress \n",
    "from scipy.fft import fft, rfft,fftshift\n",
    "from scipy.fft import fftfreq, rfftfreq\n",
    "import scipy.signal as sig\n",
    "from scipy.fft import fft, rfft,fftshift\n",
    "from scipy.fft import fftfreq, rfftfreq\n",
    "import sys\n",
    "import pickle"
   ]
  },
  {
   "cell_type": "code",
   "execution_count": null,
   "id": "8d40044b-670d-4ba9-b903-d9d92e652919",
   "metadata": {},
   "outputs": [],
   "source": [
    "shaplet=Shaplet(181,\"low\",297,600)\n",
    "shaplet.load(Data(181))"
   ]
  },
  {
   "cell_type": "code",
   "execution_count": null,
   "id": "c1c6f461-a37a-4edb-b766-09b0668a2758",
   "metadata": {},
   "outputs": [],
   "source": []
  },
  {
   "cell_type": "code",
   "execution_count": null,
   "id": "fbc7be43-7888-477e-b661-50c23675468c",
   "metadata": {},
   "outputs": [],
   "source": [
    "%matplotlib inline\n",
    "visualizer=Visualizer()\n",
    "index=279\n",
    "visualizer.superpose(Data(index),shaplet,Comparator(Data(index),\"low\",shaplet))\n"
   ]
  },
  {
   "cell_type": "code",
   "execution_count": null,
   "id": "4e157d55-ecaf-4dd2-9f3e-210fe23977c4",
   "metadata": {},
   "outputs": [],
   "source": [
    "shaplet=Shaplet(series=utilities.loadpickle(\"shaplet\"))"
   ]
  },
  {
   "cell_type": "code",
   "execution_count": null,
   "id": "9332eb3f-3c32-4490-a6cb-a1b56172f950",
   "metadata": {},
   "outputs": [],
   "source": [
    "len(shaplet)"
   ]
  },
  {
   "cell_type": "code",
   "execution_count": null,
   "id": "f5ca68f8-8c1b-4fdb-aedb-3f4fc1d9a408",
   "metadata": {},
   "outputs": [],
   "source": [
    "shaplet.lcnumber"
   ]
  },
  {
   "cell_type": "code",
   "execution_count": null,
   "id": "bbd5d62d-451d-41ee-ba78-1231033612e9",
   "metadata": {},
   "outputs": [],
   "source": [
    "comparator=Comparator(Data(181),\"low\",shaplet)\n"
   ]
  },
  {
   "cell_type": "code",
   "execution_count": null,
   "id": "ddc10eeb-d97c-46b1-bc95-bf9ab3e9559b",
   "metadata": {},
   "outputs": [],
   "source": [
    "comparator.minimaspositions()"
   ]
  },
  {
   "cell_type": "code",
   "execution_count": null,
   "id": "94a14ddd-7d1a-415c-bbb3-7d32a482da7f",
   "metadata": {},
   "outputs": [],
   "source": []
  }
 ],
 "metadata": {
  "kernelspec": {
   "display_name": "Python 3 (ipykernel)",
   "language": "python",
   "name": "python3"
  },
  "language_info": {
   "codemirror_mode": {
    "name": "ipython",
    "version": 3
   },
   "file_extension": ".py",
   "mimetype": "text/x-python",
   "name": "python",
   "nbconvert_exporter": "python",
   "pygments_lexer": "ipython3",
   "version": "3.10.15"
  }
 },
 "nbformat": 4,
 "nbformat_minor": 5
}
