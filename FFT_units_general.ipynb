{
 "cells": [
  {
   "cell_type": "code",
   "execution_count": null,
   "id": "30a91dbb-79cf-415d-be81-d51a177b59d2",
   "metadata": {},
   "outputs": [],
   "source": [
    "import numpy as np\n",
    "import seaborn as sns\n",
    "import matplotlib.pyplot as plt\n",
    "import mplcursors\n",
    "%matplotlib notebook\n",
    "%matplotlib widget\n",
    "import pandas as pd\n",
    "from matplotlib.lines import Line2D\n",
    "from scipy.stats import linregress \n",
    "from scipy.fft import fft, rfft,fftshift\n",
    "from scipy.fft import fftfreq, rfftfreq\n",
    "\n",
    "from scipy.fft import fft, rfft,fftshift\n",
    "from scipy.fft import fftfreq, rfftfreq\n",
    "import sys\n",
    "import utilities\n",
    "import importlib\n",
    "importlib.reload(utilities)\n",
    "import json"
   ]
  },
  {
   "cell_type": "code",
   "execution_count": null,
   "id": "4c8c9530-a34f-45a0-86b1-137989ea73e9",
   "metadata": {},
   "outputs": [],
   "source": [
    "period=1/22 # period of the generated signal (in s)\n",
    "sampling=1/128 # acquisition sampling (interval in s)\n",
    "acquisition=1/2 # length of the signal acquisition (in s)\n",
    "\n",
    "# signal generation\n",
    "x=np.arange(0,acquisition+sampling,sampling)\n",
    "a=np.sin(2*np.pi/period*np.arange(0,acquisition+sampling,sampling))+1"
   ]
  },
  {
   "cell_type": "code",
   "execution_count": null,
   "id": "da14c425-9d12-413e-9e15-095705276b22",
   "metadata": {},
   "outputs": [],
   "source": [
    "# signal in the direct space\n",
    "plt.plot(x,a)\n",
    "plt.xlabel('time [s]')\n",
    "plt.ylabel('count [/s]')"
   ]
  },
  {
   "cell_type": "code",
   "execution_count": null,
   "id": "8a7818f8-7e55-4eca-b876-91394e3710f7",
   "metadata": {},
   "outputs": [],
   "source": [
    "# signal in the fourier space\n",
    "# (should be invariant under acquisition length and sampling) \n",
    "plt.plot(x/sampling/acquisition,np.real(sc.fft.fft(a))/acquisition*sampling)\n",
    "plt.plot(x/sampling/acquisition,np.imag(sc.fft.fft(a))/acquisition*sampling)\n",
    "plt.xlabel('Frequency [Hz]')\n",
    "plt.ylabel('Count [/s]');"
   ]
  },
  {
   "cell_type": "code",
   "execution_count": null,
   "id": "8a295a20-df9c-4b77-8c0f-2804469c82d7",
   "metadata": {},
   "outputs": [],
   "source": [
    "df=pd.read_csv(\"classified_lcs\\grs1915_lc\"+str(14)+\".txt\",sep=\"\t\",skiprows=[0, 1], header=None)\n",
    "# Extract the part after \"# class : \"\n",
    "first_line = pd.read_csv(\"classified_lcs\\grs1915_lc\"+str(14)+\".txt\", nrows=1, header=None).iloc[0, 0]\n",
    "\n",
    "class_name = first_line.split(\"# class : \")[-1] if \"# class : \" in first_line else None\n",
    "df.columns = ['time', 'total','low','mid','high'] #time in seconds\n",
    "\n",
    "low=df[\"low\"]"
   ]
  },
  {
   "cell_type": "code",
   "execution_count": null,
   "id": "64e5cf8d-e9c2-4cce-a107-3c4f29e48bc8",
   "metadata": {},
   "outputs": [],
   "source": [
    "first_line"
   ]
  },
  {
   "cell_type": "code",
   "execution_count": null,
   "id": "58896e1d-a2e3-4935-b376-16585c42acf2",
   "metadata": {},
   "outputs": [],
   "source": [
    "plt.figure()\n",
    "plt.xlabel(\"time in 1/8 s\")\n",
    "plt.ylabel(\"intensity count/s\")\n",
    "plt.title(\"light curve 14,class phi\")\n",
    "plt.plot(low)\n",
    "plt.show()"
   ]
  },
  {
   "cell_type": "code",
   "execution_count": null,
   "id": "84c3fee4-1879-464b-a158-fc2c51fddee1",
   "metadata": {},
   "outputs": [],
   "source": []
  },
  {
   "cell_type": "code",
   "execution_count": null,
   "id": "6fce1490-1f55-47f2-89c2-43b78c63f0c0",
   "metadata": {},
   "outputs": [],
   "source": [
    "fourier = fftshift(fft(low))\n",
    "\n",
    "freqs = np.fft.fftshift(np.fft.fftfreq(len(low)))  # Normalized frequencies\n",
    "plt.figure()\n",
    "# Plot the magnitude spectrum\n",
    "plt.plot(freqs, np.abs(fourier))\n",
    "plt.xlim(-0.01,0.01)\n",
    "plt.xlabel(\"Frequency\")\n",
    "plt.ylabel(\"Magnitude\")\n",
    "plt.title(\"FFT result for the low component of the light curve 181,class rho\")\n",
    "plt.show()"
   ]
  },
  {
   "cell_type": "code",
   "execution_count": null,
   "id": "ba2edbf1-556a-4cae-afc9-62b52f099f80",
   "metadata": {},
   "outputs": [],
   "source": [
    "help(utilities.draw)"
   ]
  },
  {
   "cell_type": "code",
   "execution_count": null,
   "id": "5a737324-ce1f-4c3b-99d8-ef9aed177199",
   "metadata": {},
   "outputs": [],
   "source": []
  }
 ],
 "metadata": {
  "kernelspec": {
   "display_name": "Python 3 (ipykernel)",
   "language": "python",
   "name": "python3"
  },
  "language_info": {
   "codemirror_mode": {
    "name": "ipython",
    "version": 3
   },
   "file_extension": ".py",
   "mimetype": "text/x-python",
   "name": "python",
   "nbconvert_exporter": "python",
   "pygments_lexer": "ipython3",
   "version": "3.10.15"
  }
 },
 "nbformat": 4,
 "nbformat_minor": 5
}
