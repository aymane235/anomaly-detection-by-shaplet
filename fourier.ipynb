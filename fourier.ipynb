{
 "cells": [
  {
   "cell_type": "code",
   "execution_count": null,
   "id": "deef0417-1cd4-42d0-9a57-ee27a970d111",
   "metadata": {},
   "outputs": [],
   "source": [
    "import numpy as np\n",
    "import seaborn as sns\n",
    "import matplotlib.pyplot as plt\n",
    "import mplcursors\n",
    "%matplotlib inline\n",
    "import pandas as pd\n",
    "from matplotlib.lines import Line2D\n",
    "from scipy.stats import linregress \n",
    "from scipy.fft import fft, rfft,fftshift\n",
    "from scipy.fft import fftfreq, rfftfreq"
   ]
  },
  {
   "cell_type": "code",
   "execution_count": null,
   "id": "bacb1844-b561-47b3-a388-e0b759109751",
   "metadata": {},
   "outputs": [],
   "source": [
    "pd.option_context('display.precision', 10)\n",
    "pd.set_option('display.float_format', '{:.10f}'.format)"
   ]
  },
  {
   "cell_type": "code",
   "execution_count": null,
   "id": "d7664e9f-d575-47df-a6a5-46bcd5db0c18",
   "metadata": {},
   "outputs": [],
   "source": [
    "graph_number=181"
   ]
  },
  {
   "cell_type": "code",
   "execution_count": null,
   "id": "b63bd048-0f5c-4628-bc1e-cee5965c1953",
   "metadata": {},
   "outputs": [],
   "source": [
    "first_line = pd.read_csv(\"classified_lcs\\grs1915_lc\"+str(graph_number)+\".txt\", nrows=1, header=None).iloc[0, 0]\n",
    "\n",
    "# Extract the part after \"# class : \"\n",
    "class_name = first_line.split(\"# class : \")[-1] if \"# class : \" in first_line else None\n",
    "\n",
    "print(class_name)\n"
   ]
  },
  {
   "cell_type": "code",
   "execution_count": null,
   "id": "8490a0fb-ca7b-4b15-8178-410d744ec1a1",
   "metadata": {},
   "outputs": [],
   "source": [
    "df=pd.read_csv(\"classified_lcs\\grs1915_lc\"+str(graph_number)+\".txt\",sep=\"\t\",skiprows=[0, 1], header=None)"
   ]
  },
  {
   "cell_type": "code",
   "execution_count": null,
   "id": "9027f7d6-bb6b-4035-bec8-406c915df5eb",
   "metadata": {},
   "outputs": [],
   "source": [
    "n=len(df)"
   ]
  },
  {
   "cell_type": "code",
   "execution_count": null,
   "id": "5e6ab469-43ac-4ca7-a08b-1c49dbe21453",
   "metadata": {},
   "outputs": [],
   "source": [
    "df.columns = ['time', 'total','low','mid','high'] #time in seconds"
   ]
  },
  {
   "cell_type": "code",
   "execution_count": null,
   "id": "42ae3a89-eafc-4452-a9a1-5aa14a013e4e",
   "metadata": {},
   "outputs": [],
   "source": [
    "df"
   ]
  },
  {
   "cell_type": "code",
   "execution_count": null,
   "id": "47930b62-fc4c-4938-9a43-199e72b8c466",
   "metadata": {},
   "outputs": [],
   "source": [
    "df[\"total\"] - (df[\"low\"] + df[\"mid\"])"
   ]
  },
  {
   "cell_type": "code",
   "execution_count": null,
   "id": "459d1a51-9b2a-4e0b-adb8-f23c4e1f713c",
   "metadata": {},
   "outputs": [],
   "source": [
    "#time step is 0.125 sec"
   ]
  },
  {
   "cell_type": "code",
   "execution_count": null,
   "id": "31c7008a-ed77-42b6-9018-37cdb8311746",
   "metadata": {},
   "outputs": [],
   "source": [
    "low=np.array(list(df[\"low\"]))\n",
    "mid=np.array(list(df[\"mid\"]))\n",
    "high=np.array(list(df[\"high\"]))"
   ]
  },
  {
   "cell_type": "markdown",
   "id": "4c7ff98c-abbd-413d-8847-f9e07edbf858",
   "metadata": {},
   "source": [
    "divide by 8 !!! to get the time in seconds"
   ]
  },
  {
   "cell_type": "code",
   "execution_count": null,
   "id": "57eb5b71-0735-421b-8ea5-57dfaac4a227",
   "metadata": {},
   "outputs": [],
   "source": [
    "plt.plot(np.array(range(len(low)))/8,low)\n",
    "plt.xlim(0,215)\n",
    "plt.show()"
   ]
  },
  {
   "cell_type": "code",
   "execution_count": null,
   "id": "f1bf8892-d539-4a77-830c-0ea5d0c66d33",
   "metadata": {},
   "outputs": [],
   "source": [
    "plt.plot(range(len(mid)),mid)\n",
    "plt.show()"
   ]
  },
  {
   "cell_type": "code",
   "execution_count": null,
   "id": "93f8031f-1410-4c2b-822d-a02a73380690",
   "metadata": {},
   "outputs": [],
   "source": [
    "sampling_rate=0.01 # take a point each 0.01 sec\n",
    "time=10 #100 seconds\n",
    "N=np.array(range(int(time/sampling_rate)))\n",
    "\n",
    "f=10 #10 Hz\n",
    "\n",
    "signal=np.sin(2*np.pi*f*sampling_rate*N)\n",
    "signal+=np.sin(2*np.pi*2*f*sampling_rate*N)\n",
    "plt.plot(N*sampling_rate,signal)\n",
    "plt.xlim(0,1)\n",
    "plt.show()"
   ]
  },
  {
   "cell_type": "code",
   "execution_count": null,
   "id": "681df4a7-865c-476c-ac87-665dc418773f",
   "metadata": {},
   "outputs": [],
   "source": [
    "# Apply the FFT on the signal\n",
    "fourier = fftshift(fft(low))\n",
    "\n",
    "freqs = np.fft.fftshift(np.fft.fftfreq(len(low)))  # Normalized frequencies\n",
    "\n",
    "# Plot the magnitude spectrum\n",
    "plt.plot(freqs, np.abs(fourier))\n",
    "plt.xlim(-0.01,0.01)\n",
    "plt.xlabel(\"Frequency\")\n",
    "plt.ylabel(\"Magnitude\")\n",
    "plt.title(\"Centered FFT Spectrum\")\n",
    "plt.show()\n",
    "\"\"\"\n",
    "# Plot the result (the spectrum |Xk|)\n",
    "plt.plot(np.abs(fourier))\n",
    "#plt.xlim(0,200)\n",
    "plt.show()\"\"\"\n"
   ]
  },
  {
   "cell_type": "code",
   "execution_count": null,
   "id": "13897d61-fff9-4814-8b35-0a829e6b1f42",
   "metadata": {},
   "outputs": [],
   "source": [
    "fourier = fftshift(fft(mid))\n",
    "\n",
    "freqs = np.fft.fftshift(np.fft.fftfreq(len(mid)))  # Normalized frequencies\n",
    "\n",
    "# Plot the magnitude spectrum\n",
    "plt.plot(freqs[freqs>0], np.abs(fourier)[freqs>0]**2)\n",
    "#plt.xlim(0,0.025)\n",
    "plt.yscale(\"log\")\n",
    "#plt.xscale(\"log\")\n",
    "#plt.xlabel(\"Frequency\")\n",
    "plt.ylabel(\"Magnitude\")\n",
    "plt.title(\"Centered FFT Spectrum\")\n",
    "plt.show()\n"
   ]
  },
  {
   "cell_type": "code",
   "execution_count": null,
   "id": "cb359d5e-9f69-4487-b6a4-8cc060b88f17",
   "metadata": {},
   "outputs": [],
   "source": [
    "fourier = fftshift(fft(high))\n",
    "\n",
    "freqs = np.fft.fftshift(np.fft.fftfreq(len(high)))  # Normalized frequencies\n",
    "\n",
    "# Plot the magnitude spectrum\n",
    "plt.plot(freqs, np.abs(fourier))\n",
    "plt.xlim(-0.025,0.025)\n",
    "plt.xlabel(\"Frequency\")\n",
    "plt.ylabel(\"Magnitude\")\n",
    "plt.title(\"Centered FFT Spectrum\")\n",
    "plt.show()\n",
    "\n"
   ]
  },
  {
   "cell_type": "code",
   "execution_count": null,
   "id": "a05b70fa-689b-494b-9079-9c6a3e40b83c",
   "metadata": {},
   "outputs": [],
   "source": [
    "fourier = fftshift(fft(low+mid+high))\n",
    "\n",
    "freqs = np.fft.fftshift(np.fft.fftfreq(len(high)))  # Normalized frequencies\n",
    "\n",
    "# Plot the magnitude spectrum\n",
    "plt.plot(freqs, np.abs(fourier))\n",
    "plt.xlim(-0.025,0.025)\n",
    "plt.xlabel(\"Frequency\")\n",
    "plt.ylabel(\"Magnitude\")\n",
    "plt.title(\"Centered FFT Spectrum\")\n",
    "plt.show()"
   ]
  },
  {
   "cell_type": "code",
   "execution_count": null,
   "id": "3dfd0eba-04ad-4aa6-8ad2-4c7f75f3ea45",
   "metadata": {},
   "outputs": [],
   "source": []
  }
 ],
 "metadata": {
  "kernelspec": {
   "display_name": "Python 3 (ipykernel)",
   "language": "python",
   "name": "python3"
  },
  "language_info": {
   "codemirror_mode": {
    "name": "ipython",
    "version": 3
   },
   "file_extension": ".py",
   "mimetype": "text/x-python",
   "name": "python",
   "nbconvert_exporter": "python",
   "pygments_lexer": "ipython3",
   "version": "3.10.15"
  }
 },
 "nbformat": 4,
 "nbformat_minor": 5
}
