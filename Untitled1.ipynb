{
 "cells": [
  {
   "cell_type": "code",
   "execution_count": null,
   "id": "b4be7533-db71-44a7-9877-cca8f5f616ed",
   "metadata": {},
   "outputs": [],
   "source": []
  }
 ],
 "metadata": {
  "kernelspec": {
   "display_name": "",
   "name": ""
  },
  "language_info": {
   "name": ""
  }
 },
 "nbformat": 4,
 "nbformat_minor": 5
}
