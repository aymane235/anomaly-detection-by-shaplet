{
 "cells": [
  {
   "cell_type": "code",
   "execution_count": null,
   "id": "deef0417-1cd4-42d0-9a57-ee27a970d111",
   "metadata": {},
   "outputs": [],
   "source": [
    "import numpy as np\n",
    "import seaborn as sns\n",
    "import matplotlib.pyplot as plt\n",
    "import mplcursors\n",
    "%matplotlib notebook\n",
    "%matplotlib widget\n",
    "import pandas as pd\n",
    "from matplotlib.lines import Line2D\n",
    "from scipy.stats import linregress \n",
    "from scipy.fft import fft, rfft,fftshift\n",
    "from scipy.fft import fftfreq, rfftfreq\n",
    "\n",
    "from scipy.fft import fft, rfft,fftshift\n",
    "from scipy.fft import fftfreq, rfftfreq\n",
    "import sys\n",
    "import utilities\n",
    "import importlib\n",
    "importlib.reload(utilities)\n",
    "import json"
   ]
  },
  {
   "cell_type": "code",
   "execution_count": null,
   "id": "bacb1844-b561-47b3-a388-e0b759109751",
   "metadata": {},
   "outputs": [],
   "source": [
    "pd.option_context('display.precision', 10)\n",
    "pd.set_option('display.float_format', '{:.10f}'.format)"
   ]
  },
  {
   "cell_type": "code",
   "execution_count": null,
   "id": "d7664e9f-d575-47df-a6a5-46bcd5db0c18",
   "metadata": {},
   "outputs": [],
   "source": [
    "graph_number=181"
   ]
  },
  {
   "cell_type": "code",
   "execution_count": null,
   "id": "b63bd048-0f5c-4628-bc1e-cee5965c1953",
   "metadata": {},
   "outputs": [],
   "source": [
    "first_line = pd.read_csv(\"classified_lcs\\grs1915_lc\"+str(graph_number)+\".txt\", nrows=1, header=None).iloc[0, 0]\n",
    "\n",
    "# Extract the part after \"# class : \"\n",
    "class_name = first_line.split(\"# class : \")[-1] if \"# class : \" in first_line else None\n",
    "\n",
    "print(class_name)\n"
   ]
  },
  {
   "cell_type": "code",
   "execution_count": null,
   "id": "8490a0fb-ca7b-4b15-8178-410d744ec1a1",
   "metadata": {},
   "outputs": [],
   "source": [
    "df=pd.read_csv(\"classified_lcs\\grs1915_lc\"+str(272)+\".txt\",sep=\"\t\",skiprows=[0, 1], header=None)"
   ]
  },
  {
   "cell_type": "code",
   "execution_count": null,
   "id": "9027f7d6-bb6b-4035-bec8-406c915df5eb",
   "metadata": {},
   "outputs": [],
   "source": [
    "n=len(df)"
   ]
  },
  {
   "cell_type": "code",
   "execution_count": null,
   "id": "5e6ab469-43ac-4ca7-a08b-1c49dbe21453",
   "metadata": {},
   "outputs": [],
   "source": [
    "df.columns = ['time', 'total','low','mid','high'] #time in seconds"
   ]
  },
  {
   "cell_type": "code",
   "execution_count": null,
   "id": "0d43e474-90f8-4983-b480-68b0286b988f",
   "metadata": {},
   "outputs": [],
   "source": [
    "low=df[\"low\"]"
   ]
  },
  {
   "cell_type": "code",
   "execution_count": null,
   "id": "adcdbeba-41fb-4088-9b5d-86837784c9d3",
   "metadata": {},
   "outputs": [],
   "source": [
    "plt.figure()\n",
    "plt.plot(low)\n",
    "plt.show()"
   ]
  },
  {
   "cell_type": "code",
   "execution_count": null,
   "id": "42ae3a89-eafc-4452-a9a1-5aa14a013e4e",
   "metadata": {},
   "outputs": [],
   "source": [
    "df"
   ]
  },
  {
   "cell_type": "code",
   "execution_count": null,
   "id": "47930b62-fc4c-4938-9a43-199e72b8c466",
   "metadata": {},
   "outputs": [],
   "source": [
    "df[\"total\"] - (df[\"low\"] + df[\"mid\"])"
   ]
  },
  {
   "cell_type": "code",
   "execution_count": null,
   "id": "459d1a51-9b2a-4e0b-adb8-f23c4e1f713c",
   "metadata": {},
   "outputs": [],
   "source": [
    "#time step is 0.125 sec"
   ]
  },
  {
   "cell_type": "code",
   "execution_count": null,
   "id": "31c7008a-ed77-42b6-9018-37cdb8311746",
   "metadata": {},
   "outputs": [],
   "source": [
    "low=np.array(list(df[\"low\"]))\n",
    "mid=np.array(list(df[\"mid\"]))\n",
    "high=np.array(list(df[\"high\"]))"
   ]
  },
  {
   "cell_type": "markdown",
   "id": "4c7ff98c-abbd-413d-8847-f9e07edbf858",
   "metadata": {},
   "source": [
    "divide by 8 !!! to get the time in seconds"
   ]
  },
  {
   "cell_type": "code",
   "execution_count": null,
   "id": "9bb0cf22-78c8-4e05-8776-222e0ca55aa6",
   "metadata": {},
   "outputs": [],
   "source": [
    "plt.figure()  # Start a new figure\n",
    "\n",
    "plt.plot(np.array(range(len(low))),low)\n",
    "plt.xlim(294,294+597)\n",
    "plt.show()"
   ]
  },
  {
   "cell_type": "code",
   "execution_count": null,
   "id": "57eb5b71-0735-421b-8ea5-57dfaac4a227",
   "metadata": {},
   "outputs": [],
   "source": [
    "plt.figure()  # Start a new figure\n",
    "plt.plot(np.array(range(len(low))),low)\n",
    "plt.xlim(294,890)\n",
    "plt.show()"
   ]
  },
  {
   "cell_type": "code",
   "execution_count": null,
   "id": "681df4a7-865c-476c-ac87-665dc418773f",
   "metadata": {},
   "outputs": [],
   "source": [
    "# Apply the FFT on the signal\n",
    "plt.figure()  # Start a new figure\n",
    "\n",
    "fourier = fftshift(fft(low))\n",
    "\n",
    "freqs = np.fft.fftshift(np.fft.fftfreq(len(low)))  # Normalized frequencies\n",
    "\n",
    "# Plot the magnitude spectrum\n",
    "plt.clf()\n",
    "plt.plot(freqs, np.abs(fourier))\n",
    "plt.xlim(-0.01,0.01)\n",
    "plt.xlabel(\"Frequency\")\n",
    "plt.ylabel(\"Magnitude\")\n",
    "plt.title(\"Centered FFT Spectrum\")\n",
    "plt.show()\n",
    "\"\"\"\n",
    "# Plot the result (the spectrum |Xk|)\n",
    "plt.plot(np.abs(fourier))\n",
    "#plt.xlim(0,200)\n",
    "plt.show()\"\"\"\n"
   ]
  },
  {
   "cell_type": "markdown",
   "id": "e7b40a5f-a2dc-4cf3-b7b0-31b6b0bb8a89",
   "metadata": {},
   "source": [
    "getting the graph of distance comparison with the shapelet"
   ]
  },
  {
   "cell_type": "markdown",
   "id": "d46fd5ca-43bf-432a-90c8-f77837dc8d48",
   "metadata": {},
   "source": [
    "saving the shaplet"
   ]
  },
  {
   "cell_type": "code",
   "execution_count": null,
   "id": "fe9c64ad-5752-4028-ad93-b364559e7fff",
   "metadata": {},
   "outputs": [],
   "source": [
    "shaplet=low[294:891]"
   ]
  },
  {
   "cell_type": "code",
   "execution_count": null,
   "id": "d53fbba9-cd20-49a9-8fe4-2c5a33c2d3ec",
   "metadata": {},
   "outputs": [],
   "source": [
    "#import pickle\n",
    "#with open(\"shaplet.pkl\", \"wb\") as f:\n",
    "#    pickle.dump(shaplet, f)"
   ]
  },
  {
   "cell_type": "code",
   "execution_count": null,
   "id": "7ce11a15-3a05-4cd8-9c0a-a852cad70c36",
   "metadata": {},
   "outputs": [],
   "source": [
    "l=len(shaplet)"
   ]
  },
  {
   "cell_type": "code",
   "execution_count": null,
   "id": "69b02c60-e250-4f40-8666-5b5d806607f1",
   "metadata": {},
   "outputs": [],
   "source": [
    "l"
   ]
  },
  {
   "cell_type": "code",
   "execution_count": null,
   "id": "20509d99-5112-4550-b627-8dbfe3e29627",
   "metadata": {},
   "outputs": [],
   "source": [
    "plt.figure()\n",
    "plt.plot(shaplet)\n",
    "plt.show()"
   ]
  },
  {
   "cell_type": "code",
   "execution_count": null,
   "id": "c11bf156-95b0-4804-a084-755373923d52",
   "metadata": {},
   "outputs": [],
   "source": [
    "difference=[] #diffrence between shaplet & signal\n",
    "mean_=np.mean(shaplet)\n",
    "shapletlength=len(shaplet)\n",
    "for i in range(0,len(low)-l):\n",
    "    diff=np.sum(np.power(low[i:i+l]-shaplet,2) / (2*mean_*8*len(shaplet)) )\n",
    "    difference.append(diff)\n",
    "difference=np.array(difference)"
   ]
  },
  {
   "cell_type": "code",
   "execution_count": null,
   "id": "ab0e6e58-817f-489b-9a47-735bdc6def41",
   "metadata": {},
   "outputs": [],
   "source": [
    "plt.figure()  # Start a new figure\n",
    "plt.plot(range(len(difference)),difference)\n",
    "plt.show()"
   ]
  },
  {
   "cell_type": "code",
   "execution_count": null,
   "id": "72c2d3f9-449b-4419-8eb0-4fa6c7e10406",
   "metadata": {},
   "outputs": [],
   "source": [
    "chi2=[] #diffrence between shaplet & signal\n",
    "mean_=np.mean(shaplet)\n",
    "for i in range(0,len(low)-l):\n",
    "    diff=np.sum( np.power(low[i:i+l]-shaplet,2) / (2*mean_*8) )\n",
    "    chi2.append(diff)\n",
    "#chi2=chi2/(2*np.mean(shaplet))\n",
    "chi2=np.array(chi2)\n",
    "\n",
    "plt.figure()  \n",
    "plt.plot(range(len(chi2)),chi2)\n",
    "plt.show()\n",
    "plt.figure()  # Start a new figure\n",
    "plt.plot(range(len(chi2)),chi2/len(shaplet))\n",
    "plt.axhline(y=1, color='r', linestyle='--', linewidth=2, label=f'y={1}')\n",
    "plt.axhline(y=4, color='b', linestyle='--', linewidth=2, label=f'y={4}')\n",
    "plt.axhline(y=1+np.sqrt(2/500), color='#FFA500', linestyle='--', linewidth=2, label=f'y={1+np.sqrt(2/500)}')\n",
    "plt.show()"
   ]
  },
  {
   "cell_type": "code",
   "execution_count": null,
   "id": "e401beff-154d-4de4-84b7-e44df9494228",
   "metadata": {},
   "outputs": [],
   "source": [
    "import scipy.signal as sig\n",
    "print(sig.argrelmin(difference,order=300))"
   ]
  },
  {
   "cell_type": "code",
   "execution_count": null,
   "id": "d784741e-d76c-4e36-b9fb-32c73fa436a0",
   "metadata": {},
   "outputs": [],
   "source": [
    "was_below=False\n",
    "threshold=4\n",
    "minima=1000\n",
    "index=-1\n",
    "minimaList=[] # list of (min,index)\n",
    "print(chi2)\n",
    "for i in range(len(chi2)):\n",
    "    if(chi2[i]<threshold):\n",
    "        if(chi2[i]<minima):\n",
    "            minima=chi2[i]\n",
    "            index=i\n",
    "        was_below=True\n",
    "    else:\n",
    "        if(was_below):\n",
    "            was_below=False\n",
    "            minimaList.append((minima,index))\n",
    "            minima=1000\n",
    "            index=-1\n",
    "        \n",
    "print(minimaList)     \n"
   ]
  },
  {
   "cell_type": "code",
   "execution_count": null,
   "id": "34cd8dfc-ac96-4036-a60e-070944b27d97",
   "metadata": {},
   "outputs": [],
   "source": [
    "len(minimaList)"
   ]
  },
  {
   "cell_type": "code",
   "execution_count": null,
   "id": "4194bce6-11c0-425e-8b89-ece5bec66fe2",
   "metadata": {},
   "outputs": [],
   "source": [
    "newList=sig.argrelmin(difference,order=300)[0]"
   ]
  },
  {
   "cell_type": "code",
   "execution_count": null,
   "id": "8e889629-c8cf-46b1-a52b-07d7fb56448d",
   "metadata": {},
   "outputs": [],
   "source": [
    "plt.figure()\n",
    "plt.plot(range(len(low)),low,color='b') \n",
    "for el in newList:\n",
    "    index=el\n",
    "    plt.plot(range(index,index+len(shaplet)),shaplet,color='r',alpha=0.5)\n",
    "\n",
    "plt.show()"
   ]
  },
  {
   "cell_type": "code",
   "execution_count": null,
   "id": "c26ff8e8-e0e3-42b8-9ac8-1f6c43d000fc",
   "metadata": {},
   "outputs": [],
   "source": [
    "plt.figure()\n",
    "plt.plot(shaplet)\n",
    "plt.show()"
   ]
  },
  {
   "cell_type": "markdown",
   "id": "9c60b758-ee3e-4bc6-8e80-7cf50e78c2ea",
   "metadata": {},
   "source": [
    "Shaplet test for all data"
   ]
  },
  {
   "cell_type": "code",
   "execution_count": null,
   "id": "4fd52492-6bd1-40c2-be68-9f7f611726c1",
   "metadata": {},
   "outputs": [],
   "source": [
    "dist_table=[]\n",
    "min_hist=[] #list of triplets of (index,min_diff\n",
    "differences=[]#table of the table of difference; NOT COMPUTED YET\n",
    "short_=[]\n",
    "for i in range(571):\n",
    "    #get class name:\n",
    "    first_line = pd.read_csv(\"classified_lcs\\grs1915_lc\"+str(i)+\".txt\", nrows=1, header=None).iloc[0, 0]\n",
    "\n",
    "    # Extract class name\n",
    "    prefix = \"# class : \"\n",
    "    class_name = first_line[len(prefix):].strip()\n",
    "\n",
    "\n",
    "    #read table:\n",
    "    df=pd.read_csv(\"classified_lcs\\grs1915_lc\"+str(i)+\".txt\",sep=\"\t\",skiprows=[0, 1], header=None)\n",
    "    df.columns = [\"time\", 'total','low','mid','high'] #time in seconds\n",
    "    low=np.array(list(df[\"low\"]))\n",
    "\n",
    "    dist_table.append(utilities.chi2dist(shaplet,low))\n",
    "    \n",
    "    try:\n",
    "        min_hist.append(min(dist_table[-1]))\n",
    "    except Exception as e:\n",
    "        print(\"An error occurred:\", e)\n",
    "        \n"
   ]
  },
  {
   "cell_type": "code",
   "execution_count": null,
   "id": "5bb92e7e-7112-4ef4-9a77-2de49fb63aa0",
   "metadata": {},
   "outputs": [],
   "source": [
    "min_hist=np.array(min_hist)"
   ]
  },
  {
   "cell_type": "code",
   "execution_count": null,
   "id": "4d6f94ca-c597-41b9-a4e6-ece1c54c3421",
   "metadata": {},
   "outputs": [],
   "source": [
    "plt.figure()\n",
    "plt.hist(min_hist[min_hist<20],bins=\"fd\")\n",
    "plt.show()"
   ]
  },
  {
   "cell_type": "code",
   "execution_count": null,
   "id": "0eaa04f5-f881-4f07-8158-9efc06405bff",
   "metadata": {},
   "outputs": [],
   "source": [
    "plt.figure()\n",
    "plt.plot(dist_table[181])\n",
    "plt.show()"
   ]
  },
  {
   "cell_type": "code",
   "execution_count": null,
   "id": "547b4dff-fd10-4a0c-b7b2-9f875e35706d",
   "metadata": {},
   "outputs": [],
   "source": [
    "min_hist[np.argsort(min_hist)[:11]]"
   ]
  },
  {
   "cell_type": "code",
   "execution_count": null,
   "id": "cc644879-3ab2-4d41-8a28-43195af046f7",
   "metadata": {},
   "outputs": [],
   "source": [
    "np.argsort(min_hist)[:11]"
   ]
  },
  {
   "cell_type": "code",
   "execution_count": null,
   "id": "60e0e8f8-7ed7-4cef-af41-e826683a7e70",
   "metadata": {},
   "outputs": [],
   "source": [
    "min_=[]\n",
    "for d in dist_table:\n",
    "    if(len(d)!=0):\n",
    "        min_.append(min(d))\n",
    "    else:\n",
    "        min_.append(np.nan)\n"
   ]
  },
  {
   "cell_type": "code",
   "execution_count": null,
   "id": "048dde7a-8090-4b8f-9063-fdac5d924018",
   "metadata": {},
   "outputs": [],
   "source": [
    "L=np.argsort(min_)"
   ]
  },
  {
   "cell_type": "code",
   "execution_count": null,
   "id": "28738907-c951-4973-aed4-561d62314d5c",
   "metadata": {},
   "outputs": [],
   "source": [
    "L"
   ]
  },
  {
   "cell_type": "code",
   "execution_count": null,
   "id": "e145ca1c-4ae6-485a-b019-47b38cee22e5",
   "metadata": {},
   "outputs": [],
   "source": [
    "mins=[]\n",
    "for i in range(len(L)):\n",
    "    j=len(L)-1-i\n",
    "    if(not np.isnan(min_[L[j]])):\n",
    "        mins=L[0:j+1]\n",
    "        break"
   ]
  },
  {
   "cell_type": "code",
   "execution_count": null,
   "id": "53570c94-3231-4791-a691-c47bb075e84f",
   "metadata": {},
   "outputs": [],
   "source": [
    "mins"
   ]
  },
  {
   "cell_type": "code",
   "execution_count": null,
   "id": "b0852686-576c-4f36-b55c-ae60428dc3b8",
   "metadata": {},
   "outputs": [],
   "source": [
    "with open('key2class.json', 'r') as f:\n",
    "    data = json.load(f)\n",
    "\n",
    "class_ = {int(k): v for k, v in data.items()}"
   ]
  },
  {
   "cell_type": "code",
   "execution_count": null,
   "id": "5c48b468-2fa0-471a-8e55-6939771d9f08",
   "metadata": {},
   "outputs": [],
   "source": [
    "def plot_curve(i): #takes the index following mins\n",
    "    plt.close(\"all\")\n",
    "    n=len(mins)\n",
    "    lc_number=mins[i]\n",
    "    lc_class=class_[lc_number]\n",
    "    lc_min=min_[mins[i]]\n",
    "    df=pd.read_csv(\"classified_lcs\\grs1915_lc\"+str(lc_number)+\".txt\",sep=\"\t\",skiprows=[0, 1], header=None)\n",
    "    df.columns = [\"time\", 'total','low','mid','high'] #time in seconds\n",
    "    low=np.array(list(df[\"low\"]))\n",
    "    plt.figure()\n",
    "    \n",
    "    legend=\"Class: \"+str(lc_class)+\"\\nIndex: \"+str(i)+\"\\nLC Number:\"+str(lc_number)+\"\\ndist minima: \"+str(lc_min)\n",
    "    utilities.draw(shaplet,dist_table[lc_number],low,txt=legend)\n",
    "    #plt.clf()\n",
    "    print(\"class: \",lc_class)\n",
    "    print(\"index: \",i)\n",
    "    print(\"lc number: \",lc_number)"
   ]
  },
  {
   "cell_type": "code",
   "execution_count": null,
   "id": "85b6071a-813f-4022-a290-6b2e6287e6d9",
   "metadata": {},
   "outputs": [],
   "source": [
    "%matplotlib inline\n",
    "plt.clf()\n",
    "plt.figure()\n",
    "for i in range(0,50):\n",
    "    plot_curve(i)"
   ]
  },
  {
   "cell_type": "code",
   "execution_count": null,
   "id": "4872de4d-8902-4392-815b-8deb49ea696a",
   "metadata": {},
   "outputs": [],
   "source": [
    "%matplotlib inline\n",
    "  \n",
    "for j in range(87,87+1):\n",
    "    plot_curve(i)"
   ]
  },
  {
   "cell_type": "code",
   "execution_count": null,
   "id": "47d8eafb-8c61-42e2-9a32-727b3bbad5c6",
   "metadata": {},
   "outputs": [],
   "source": [
    "len(utilities.get_low(280))"
   ]
  },
  {
   "cell_type": "code",
   "execution_count": null,
   "id": "2ec32152-4d4c-4c30-b863-3bd65618051e",
   "metadata": {},
   "outputs": [],
   "source": [
    "plt.close('all')"
   ]
  },
  {
   "cell_type": "code",
   "execution_count": null,
   "id": "93533008-7c82-4c4c-8e6e-2281d17c8dc4",
   "metadata": {},
   "outputs": [],
   "source": [
    "n"
   ]
  },
  {
   "cell_type": "code",
   "execution_count": null,
   "id": "4e217144-b9bf-42c9-8df6-3067a305e198",
   "metadata": {},
   "outputs": [],
   "source": [
    "sig.argrelmin(dist_table[lc_number],order=300)[0]"
   ]
  },
  {
   "cell_type": "code",
   "execution_count": null,
   "id": "80831047-9fc1-4234-973c-748e8bb62517",
   "metadata": {},
   "outputs": [],
   "source": [
    "n/16"
   ]
  },
  {
   "cell_type": "markdown",
   "id": "37accae9-52d9-49a4-adcd-bc4210b63c8f",
   "metadata": {},
   "source": [
    "### "
   ]
  },
  {
   "cell_type": "code",
   "execution_count": null,
   "id": "aeaaae51-909b-43d2-bfcf-a85caad67f51",
   "metadata": {},
   "outputs": [],
   "source": [
    "%matplotlib widget\n",
    "plot_curve(6)"
   ]
  },
  {
   "cell_type": "code",
   "execution_count": null,
   "id": "bf68a9b2-33de-4d95-8df9-c16b94e88975",
   "metadata": {},
   "outputs": [],
   "source": [
    "# Data dictionary (same structure as np.savez)\n",
    "data = {\n",
    "    \"min_distances_table\": min_,\n",
    "    \"argsort_min\": L,\n",
    "    \"argsort_min_without_nan\": mins,\n",
    "    \"dist_table\": dist_table\n",
    "}\n",
    "\n",
    "# Save to a .pkl file\n",
    "with open(\"computed_data.pkl\", \"wb\") as f:\n",
    "    pickle.dump(data, f)"
   ]
  },
  {
   "cell_type": "code",
   "execution_count": null,
   "id": "ba26f1a7-660f-4d2d-837c-9bf45ff201b2",
   "metadata": {},
   "outputs": [],
   "source": [
    "description = \"\"\"This file contains:\n",
    "- dist_table: is a table that contains distance array between the shaplet and each light_curve for each element\n",
    "- min_distances_table: contains the minimum of each dist_table,\n",
    "            \\nif an element of dist table is empty,meaning the original curve is shorter than the shaplet\n",
    "            \\nthen the default value is np.nan\n",
    "- argsort_min: the indeces sorted by the value of the min,it takes also indeces for which the minima is np.nan\n",
    "- argsort_min_without_nan: same as argsort_min but without the nan elements\n",
    "\"\"\"\n",
    "\n",
    "# Save metadata\n",
    "with open(\"arrays_info.txt\", \"w\") as f:\n",
    "    f.write(description)\n"
   ]
  },
  {
   "cell_type": "code",
   "execution_count": null,
   "id": "c6f971ff-8796-4d54-b4da-ac9e269c94a8",
   "metadata": {},
   "outputs": [],
   "source": [
    "\"\"\"\n",
    "with open(\"computed_data.pkl\", \"rb\") as f:\n",
    "    loaded_data = pickle.load(f)\n",
    "\n",
    "# Access variables\n",
    "min_loaded = loaded_data[\"min_distances_table\"]\n",
    "Lloaded = loaded_data[\"argsort_min\"]\n",
    "minsloadd = loaded_data[\"argsort_min_without_nan\"]\n",
    "dist_tableloaded = loaded_data[\"dist_table\"]\n",
    "\"\"\"\n"
   ]
  },
  {
   "cell_type": "code",
   "execution_count": null,
   "id": "78526f66-8a51-4b47-b1da-86104e9d447e",
   "metadata": {},
   "outputs": [],
   "source": [
    "?utilities.dist"
   ]
  },
  {
   "cell_type": "markdown",
   "id": "2d529210-da67-45ad-b70b-ec398945acbe",
   "metadata": {},
   "source": [
    "<b style=\"color:dark;\">Minimul resemblance visualization for each light curve"
   ]
  },
  {
   "cell_type": "code",
   "execution_count": null,
   "id": "66118c39-5996-4e4a-ae84-3c17ead4aa52",
   "metadata": {},
   "outputs": [],
   "source": [
    "importlib.reload(utilities)\n",
    "def plot_at_high_resemblance(i):\n",
    "    plt.close(\"all\")\n",
    "    n=len(mins)\n",
    "    lc_number=mins[i]\n",
    "    lc_class=class_[lc_number]\n",
    "    lc_min=min_[mins[i]]\n",
    "    print(lc_min,lc_class,lc_number)\n",
    "    df=pd.read_csv(\"classified_lcs\\grs1915_lc\"+str(lc_number)+\".txt\",sep=\"\t\",skiprows=[0, 1], header=None)\n",
    "    df.columns = [\"time\", 'total','low','mid','high'] #time in seconds\n",
    "    low=np.array(list(df[\"low\"]))\n",
    "\n",
    "    minima_coordinates=np.where(dist_table[lc_number] == lc_min)[0][0]\n",
    "    xlim=(minima_coordinates,minima_coordinates+len(shaplet))\n",
    "#    print(xlim)\n",
    "    plt.figure()\n",
    "    title=\"Class: \"+str(lc_class)+\" LC Number:\"+str(lc_number)+\" dist minima: \"+\"{:.2f}\".format(lc_min)\n",
    "    utilities.draw(shaplet,dist_table[lc_number],low,txt=title,xlim=xlim)\n",
    "#    utilities.draw(shaplet,dist_table[lc_number],low,txt=title)\n",
    "    #plt.clf()\n",
    "    print(\"class: \",lc_class)\n",
    "    print(\"index: \",i)\n",
    "    print(\"lc number: \",lc_number)"
   ]
  },
  {
   "cell_type": "code",
   "execution_count": null,
   "id": "4c294061-c1f7-43a4-91e3-a2111bbf2766",
   "metadata": {},
   "outputs": [],
   "source": []
  },
  {
   "cell_type": "code",
   "execution_count": null,
   "id": "ede0141d-a8fb-4ed0-ae1a-62eabff81639",
   "metadata": {},
   "outputs": [],
   "source": [
    "%matplotlib inline\n",
    "plot_at_high_resemblance(0) #order of the least distant to the farest distant,"
   ]
  },
  {
   "cell_type": "code",
   "execution_count": null,
   "id": "44f9b202-4670-48f7-9058-74b9f797dd0e",
   "metadata": {},
   "outputs": [],
   "source": [
    "%matplotlib inline\n",
    "for i in range(0,50):\n",
    "    plot_at_high_resemblance(i)"
   ]
  },
  {
   "cell_type": "code",
   "execution_count": null,
   "id": "53a9bba6-54b7-4cee-9186-e509445fb70d",
   "metadata": {},
   "outputs": [],
   "source": [
    "plt.hist(np.array(min_)[np.array(min_)<10],bins=\"fd\")"
   ]
  },
  {
   "cell_type": "markdown",
   "id": "f5a3ff65-e463-4465-929c-7e87bfa52eb6",
   "metadata": {},
   "source": [
    "<b style=\"color:red;\">Get all minimas and save in a list of elements with element beeing: (i,coordinate,chi2)"
   ]
  },
  {
   "cell_type": "code",
   "execution_count": null,
   "id": "58ed19d7-54f2-4421-9794-073442605478",
   "metadata": {},
   "outputs": [],
   "source": [
    "minimas_table=[]"
   ]
  },
  {
   "cell_type": "code",
   "execution_count": null,
   "id": "c5ae3f31-b2e9-4043-b559-76a0bb6fdc7d",
   "metadata": {},
   "outputs": [],
   "source": [
    "for i in range(len(dist_table)):\n",
    "    minimas_coordinates=utilities.get_minimas_coordinates(shaplet,dist_table[i],300)\n",
    "    for index in minimas_coordinates:\n",
    "        minimas_table.append( [i,index, dist_table[i][index] ] )"
   ]
  },
  {
   "cell_type": "code",
   "execution_count": null,
   "id": "aaee6a43-d454-4e67-89c4-961a53eb402b",
   "metadata": {},
   "outputs": [],
   "source": [
    "minimas_table"
   ]
  },
  {
   "cell_type": "code",
   "execution_count": null,
   "id": "94cc9237-25b8-40c3-9eca-131b145debf3",
   "metadata": {},
   "outputs": [],
   "source": [
    "minimas_table=np.array(minimas_table)"
   ]
  },
  {
   "cell_type": "code",
   "execution_count": null,
   "id": "1cc3c054-3369-4ae8-a93f-c8248b565d8e",
   "metadata": {},
   "outputs": [],
   "source": [
    "minimas_table_sorted = minimas_table[minimas_table[:, 2].argsort()] #SAVE THIS LIST !!!!!!"
   ]
  },
  {
   "cell_type": "code",
   "execution_count": null,
   "id": "bf78a05b-6e83-48e6-8fee-fcd1cb318647",
   "metadata": {},
   "outputs": [],
   "source": [
    "minimas_table= np.array(minimas_table_sorted)"
   ]
  },
  {
   "cell_type": "code",
   "execution_count": null,
   "id": "aca382a4-0d1d-4eca-b3e8-8c756038f891",
   "metadata": {},
   "outputs": [],
   "source": [
    "minimas_table_sorted[0]"
   ]
  },
  {
   "cell_type": "code",
   "execution_count": null,
   "id": "0f324b65-6290-4c47-8d0b-384c7fd2e75a",
   "metadata": {},
   "outputs": [],
   "source": [
    "def plot_(curve,xlim):\n",
    "    plt.plot(curve)\n",
    "    plt.xlim(xlim,xlim+len(shaplet))\n",
    "    plt.show()"
   ]
  },
  {
   "cell_type": "code",
   "execution_count": null,
   "id": "8b2a09cc-d0d3-497f-8b31-78fd51179419",
   "metadata": {},
   "outputs": [],
   "source": [
    "plt.figure()\n",
    "plt.hist(minimas_table[:, 2][minimas_table[:, 2]<25],bins=np.arange(0,10));\n",
    "plt.show()"
   ]
  },
  {
   "cell_type": "code",
   "execution_count": null,
   "id": "97838a25-08a2-4226-bfbe-bc73c61e46b0",
   "metadata": {},
   "outputs": [],
   "source": [
    "mylist=minimas_table[ abs(minimas_table[:, 2] - 2) < 0.5 ]"
   ]
  },
  {
   "cell_type": "code",
   "execution_count": null,
   "id": "3c78c473-2b42-4691-a424-a26ab10e4b4a",
   "metadata": {},
   "outputs": [],
   "source": [
    "len(mylist)"
   ]
  },
  {
   "cell_type": "code",
   "execution_count": null,
   "id": "4141ee4f-b9e7-4470-9c93-9b247bae9385",
   "metadata": {},
   "outputs": [],
   "source": [
    "%matplotlib inline\n",
    "plt.close(\"all\")\n",
    "\n",
    "for el in mylist:\n",
    "    index=int(el[0])\n",
    "    co=int(el[1])\n",
    "    chi2=el[2]\n",
    "    df=pd.read_csv(\"classified_lcs\\grs1915_lc\"+str(int(index))+\".txt\",sep=\"\t\",skiprows=[0, 1], header=None)\n",
    "    df.columns = [\"time\", 'total','low','mid','high'] #time in seconds\n",
    "    low=np.array(list(df[\"low\"]))\n",
    "\n",
    "    utilities.draw(shaplet,dist_table[index],low,txt=\"chi2: \" + str(chi2) + \", class: \"+str(class_[index]),xlim=(co,co+len(shaplet)))"
   ]
  },
  {
   "cell_type": "code",
   "execution_count": null,
   "id": "24e1227e-d07d-4eeb-ac54-f3433a9ea77c",
   "metadata": {},
   "outputs": [],
   "source": [
    "local_minimas_table_sorted = minimas_table_sorted\n",
    "\n",
    "first_column_local_minimas_table_sorted = [item[0] for item in local_minimas_table_sorted]\n",
    "second_column_local_minimas_table_sorted = [item[1] for item in local_minimas_table_sorted]\n",
    "third_column_local_minimas_table_sorted = [item[2] for item in local_minimas_table_sorted]\n",
    "\n",
    "# Step 1: Load the existing data (if any) from the Pickle file \"computed_data\"\n",
    "with open(\"computed_data.pkl\", \"rb\") as f:\n",
    "    data = pickle.load(f)  # Load the existing data (it can be a dictionary)\n",
    "\n",
    "\n",
    "# Step 2: Separate the columns from the new data\n",
    "first_column_local_minimas_table_sorted = [item[0] for item in local_minimas_table_sorted]\n",
    "second_column_local_minimas_table_sorted = [item[1] for item in local_minimas_table_sorted]\n",
    "third_column_local_minimas_table_sorted = [item[2] for item in local_minimas_table_sorted]\n",
    "\n",
    "# Step 3: Update the data (add the new columns)\n",
    "data['first_column'] = first_column_local_minimas_table_sorted\n",
    "data['second_column'] = second_column_local_minimas_table_sorted\n",
    "data['third_column'] = third_column_local_minimas_table_sorted\n",
    "\n",
    "# Step 4: Save the updated data back to the same Pickle file \"computed_data\"\n",
    "with open(\"computed_data.pkl\", \"wb\") as f:\n",
    "    pickle.dump(data, f)\n",
    "\n",
    "# Check the final data\n",
    "print(data)\n"
   ]
  },
  {
   "cell_type": "code",
   "execution_count": null,
   "id": "9e355e48-d5f8-494e-a370-a2263f6164cc",
   "metadata": {},
   "outputs": [],
   "source": [
    "data.keys()"
   ]
  },
  {
   "cell_type": "code",
   "execution_count": null,
   "id": "28c49636-29f2-4894-a016-683f33d48394",
   "metadata": {},
   "outputs": [],
   "source": [
    "data[\"first_column\"]"
   ]
  },
  {
   "cell_type": "code",
   "execution_count": null,
   "id": "7e113454-3b37-4c9f-8a5a-1f1ec020d1bd",
   "metadata": {},
   "outputs": [],
   "source": [
    "#testing\n",
    "with open(\"computed_data.pkl\", \"rb\") as f:\n",
    "    loaded = pickle.load(f)  # Load the existing data (it can be a dictionary)\n"
   ]
  },
  {
   "cell_type": "code",
   "execution_count": null,
   "id": "cff940d0-46ec-487b-bb3f-7cc271baebc1",
   "metadata": {},
   "outputs": [],
   "source": [
    "loaded.keys()"
   ]
  },
  {
   "cell_type": "code",
   "execution_count": null,
   "id": "9192b661-00a8-4126-ae42-93443127e18c",
   "metadata": {},
   "outputs": [],
   "source": []
  },
  {
   "cell_type": "code",
   "execution_count": null,
   "id": "684e2239-bfc2-42af-8b72-85f019d2cf91",
   "metadata": {},
   "outputs": [],
   "source": []
  },
  {
   "cell_type": "code",
   "execution_count": null,
   "id": "5d3fec06-0322-4d44-8f2f-ced0d52a0a7f",
   "metadata": {},
   "outputs": [],
   "source": []
  },
  {
   "cell_type": "code",
   "execution_count": null,
   "id": "bdccdbcb-59c6-4354-8159-e5392d028bea",
   "metadata": {},
   "outputs": [],
   "source": []
  }
 ],
 "metadata": {
  "kernelspec": {
   "display_name": "Python 3 (ipykernel)",
   "language": "python",
   "name": "python3"
  },
  "language_info": {
   "codemirror_mode": {
    "name": "ipython",
    "version": 3
   },
   "file_extension": ".py",
   "mimetype": "text/x-python",
   "name": "python",
   "nbconvert_exporter": "python",
   "pygments_lexer": "ipython3",
   "version": "3.10.15"
  }
 },
 "nbformat": 4,
 "nbformat_minor": 5
}
