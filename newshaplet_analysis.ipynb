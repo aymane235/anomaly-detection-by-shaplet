{
 "cells": [
  {
   "cell_type": "code",
   "execution_count": null,
   "id": "66dba0ac-098c-45a2-8f2c-dd8e3384d155",
   "metadata": {},
   "outputs": [],
   "source": [
    "import numpy as np\n",
    "import seaborn as sns\n",
    "import matplotlib.pyplot as plt\n",
    "import mplcursors\n",
    "%matplotlib notebook\n",
    "#%matplotlib widget\n",
    "import pandas as pd\n",
    "from matplotlib.lines import Line2D\n",
    "from scipy.stats import linregress \n",
    "from scipy.fft import fft, rfft,fftshift\n",
    "from scipy.fft import fftfreq, rfftfreq\n",
    "\n",
    "from scipy.fft import fft, rfft,fftshift\n",
    "from scipy.fft import fftfreq, rfftfreq\n",
    "import sys\n",
    "import utilities\n",
    "import importlib\n",
    "importlib.reload(utilities)\n",
    "import json\n",
    "import pickle"
   ]
  },
  {
   "cell_type": "markdown",
   "id": "53d635c7-56f3-4dd5-af8c-4ed0b9688fec",
   "metadata": {},
   "source": [
    "Reading an lc code:"
   ]
  },
  {
   "cell_type": "code",
   "execution_count": null,
   "id": "b4b94afa-9575-4ad6-a99c-77e9447d9f0f",
   "metadata": {},
   "outputs": [],
   "source": [
    "df=pd.read_csv(\"classified_lcs\\grs1915_lc\"+str(181)+\".txt\",sep=\"\t\",skiprows=[0, 1], header=None)\n",
    "df.columns = ['time', 'total','low','mid','high'] #time in seconds"
   ]
  },
  {
   "cell_type": "code",
   "execution_count": null,
   "id": "3f776562-2cc0-4d7b-815e-0f38d98223f1",
   "metadata": {},
   "outputs": [],
   "source": [
    "len(df)"
   ]
  },
  {
   "cell_type": "code",
   "execution_count": null,
   "id": "a8a5134a-52b8-4e8a-90a9-50d4c55f1bea",
   "metadata": {},
   "outputs": [],
   "source": [
    "df"
   ]
  },
  {
   "cell_type": "code",
   "execution_count": null,
   "id": "73a66bd4-abe9-4e1e-beb7-2d74e244d737",
   "metadata": {},
   "outputs": [],
   "source": [
    "#loading the shaplet\n",
    "with open(\"newshaplet.pkl\", \"rb\") as f:\n",
    "    shaplet = pickle.load(f)"
   ]
  },
  {
   "cell_type": "code",
   "execution_count": null,
   "id": "aa7609bc-471e-45cc-a2ed-1e65f82634ec",
   "metadata": {},
   "outputs": [],
   "source": [
    "%matplotlib inline\n",
    "plt.plot(shaplet)\n",
    "plt.show()"
   ]
  },
  {
   "cell_type": "markdown",
   "id": "2052fd0d-50ea-4246-9627-ca5ace3d0ade",
   "metadata": {},
   "source": [
    "Analysis:"
   ]
  },
  {
   "cell_type": "code",
   "execution_count": null,
   "id": "91d406c4-e3e6-4abd-b2a0-baaf7daad9eb",
   "metadata": {},
   "outputs": [],
   "source": [
    "with open(\"new_computed_data.pkl\", \"rb\") as f:\n",
    "    data = pickle.load(f)  # Assuming it's a dictionary\n",
    "\n",
    "print(data.keys())"
   ]
  },
  {
   "cell_type": "code",
   "execution_count": null,
   "id": "9f6b9004-7bb3-4ac9-916c-7b0af5332694",
   "metadata": {},
   "outputs": [],
   "source": [
    "min_distances_table=np.array(data['min_distances_table'])"
   ]
  },
  {
   "cell_type": "code",
   "execution_count": null,
   "id": "e05de33e-dcb9-404e-86ee-b3e7eb359a2e",
   "metadata": {},
   "outputs": [],
   "source": [
    "argsort_min=np.array(data[\"argsort_min\"])"
   ]
  },
  {
   "cell_type": "code",
   "execution_count": null,
   "id": "cdbe3b0c-bc9d-481b-9a1a-be0225963305",
   "metadata": {},
   "outputs": [],
   "source": [
    "argsort_min_=np.array(data[\"argsort_min_without_nan\"])"
   ]
  },
  {
   "cell_type": "code",
   "execution_count": null,
   "id": "5e5dd962-88dc-4a7b-a5d8-9b1a0103e765",
   "metadata": {},
   "outputs": [],
   "source": [
    "distancestable=data[\"dist_table\"]"
   ]
  },
  {
   "cell_type": "code",
   "execution_count": null,
   "id": "1a0b0237-e67a-46ef-a4b0-7f94420c3045",
   "metadata": {},
   "outputs": [],
   "source": [
    "summarylcindeces=np.array(data[\"first_column\"]).astype(int)"
   ]
  },
  {
   "cell_type": "code",
   "execution_count": null,
   "id": "1b9ff702-7b46-4cc7-aef0-61323c39b515",
   "metadata": {},
   "outputs": [],
   "source": [
    "summarypositions=np.array(data[\"second_column\"]).astype(int)"
   ]
  },
  {
   "cell_type": "code",
   "execution_count": null,
   "id": "83fd3052-4d4c-4cfe-a8a8-8f8fb76597f1",
   "metadata": {},
   "outputs": [],
   "source": [
    "summaryminimas=np.array(data[\"third_column\"])"
   ]
  },
  {
   "cell_type": "code",
   "execution_count": null,
   "id": "f0941fb0-0d6e-4cc0-82ce-2de3c27683f1",
   "metadata": {},
   "outputs": [],
   "source": [
    "summarytable=[]\n",
    "for i in range(len(data[\"first_column\"])):\n",
    "    summarytable.append([data[\"first_column\"][i],data[\"second_column\"][i],data[\"third_column\"][i]])"
   ]
  },
  {
   "cell_type": "code",
   "execution_count": null,
   "id": "9b2d4f43-57df-408b-966c-e489fb238e38",
   "metadata": {},
   "outputs": [],
   "source": [
    "#summary table :      light curve index , minimum position , chi^2      \n",
    "#it sorted based on the minimas"
   ]
  },
  {
   "cell_type": "code",
   "execution_count": null,
   "id": "5dcb65ca-2bef-493e-aa61-cd8b9da3aa43",
   "metadata": {},
   "outputs": [],
   "source": [
    "quality=[0]*len(distancestable) #i ll store the quality of the shaplet matching or not the signal\n",
    "count=[0]*len(distancestable)"
   ]
  },
  {
   "cell_type": "code",
   "execution_count": null,
   "id": "99e4ace7-bb28-436e-bd84-005b94b44de4",
   "metadata": {},
   "outputs": [],
   "source": [
    "cut=3"
   ]
  },
  {
   "cell_type": "code",
   "execution_count": null,
   "id": "b8621441-cd56-44c2-9387-7c3620ff0254",
   "metadata": {},
   "outputs": [],
   "source": [
    "n=np.sum(summaryminimas<cut)\n",
    "\n",
    "for i in range(n):\n",
    "    lc_index=summarylcindeces[i]\n",
    "    count[lc_index]+=1"
   ]
  },
  {
   "cell_type": "code",
   "execution_count": null,
   "id": "120f1e15-c81f-4f6f-894c-dc0c62ea7847",
   "metadata": {
    "jupyter": {
     "source_hidden": true
    }
   },
   "outputs": [],
   "source": [
    "count"
   ]
  },
  {
   "cell_type": "code",
   "execution_count": null,
   "id": "7df70ebe-9081-4540-9598-a97c0d9fa59a",
   "metadata": {},
   "outputs": [],
   "source": [
    "count[181]"
   ]
  },
  {
   "cell_type": "code",
   "execution_count": null,
   "id": "541bd266-ddc5-4908-8e73-a45ba2af709f",
   "metadata": {},
   "outputs": [],
   "source": [
    "l=np.where(summarylcindeces==181)\n",
    "c=0"
   ]
  },
  {
   "cell_type": "code",
   "execution_count": null,
   "id": "af8b0c4f-afdb-483f-afe6-6c5d28bdc27e",
   "metadata": {},
   "outputs": [],
   "source": [
    "np.sum( (summarylcindeces==181)&(summaryminimas<cut))"
   ]
  },
  {
   "cell_type": "code",
   "execution_count": null,
   "id": "28ece249-e362-40be-b4f5-73c3024f09e2",
   "metadata": {},
   "outputs": [],
   "source": [
    "summarypositions[(summarylcindeces==181)&(summaryminimas<cut)]"
   ]
  },
  {
   "cell_type": "code",
   "execution_count": null,
   "id": "e919837e-5e65-4d2a-b0c1-7d45635eb4e9",
   "metadata": {},
   "outputs": [],
   "source": [
    "#normalisation for each lc index:\n",
    "for i in range(len(count)):\n",
    "    df=pd.read_csv(\"classified_lcs\\grs1915_lc\"+str(i)+\".txt\",sep=\"\t\",skiprows=[0, 1], header=None)\n",
    "    quality[i]=count[i]*len(shaplet)/len(df)"
   ]
  },
  {
   "cell_type": "code",
   "execution_count": null,
   "id": "4310222b-112e-4bb0-9ec4-278b82d3e3a2",
   "metadata": {},
   "outputs": [],
   "source": [
    "quality=np.array(quality)"
   ]
  },
  {
   "cell_type": "code",
   "execution_count": null,
   "id": "dba209a3-8352-46b9-b289-67628c06f980",
   "metadata": {},
   "outputs": [],
   "source": [
    "quality[quality!=0]"
   ]
  },
  {
   "cell_type": "code",
   "execution_count": null,
   "id": "15653b76-0783-4c69-b26f-13a9c0d7608c",
   "metadata": {},
   "outputs": [],
   "source": [
    "plt.hist(quality[quality!=0])"
   ]
  },
  {
   "cell_type": "code",
   "execution_count": null,
   "id": "56ffb4f3-9b68-433c-a636-ed2a7e022f0e",
   "metadata": {
    "jupyter": {
     "source_hidden": true
    }
   },
   "outputs": [],
   "source": [
    "quality"
   ]
  },
  {
   "cell_type": "code",
   "execution_count": null,
   "id": "0fb8c9a5-d710-4045-8171-3053d9ad933e",
   "metadata": {},
   "outputs": [],
   "source": [
    "with open(\"classes.json\", \"r\") as f:\n",
    "    lcclasses = json.load(f)"
   ]
  },
  {
   "cell_type": "code",
   "execution_count": null,
   "id": "a1a8fe23-a6e4-4854-a194-bd43789ff3cc",
   "metadata": {},
   "outputs": [],
   "source": [
    "with open(\"key2class.json\", \"r\") as f:\n",
    "    key2class = json.load(f)"
   ]
  },
  {
   "cell_type": "code",
   "execution_count": null,
   "id": "804beae5-18db-4e03-a088-90c837de27fa",
   "metadata": {},
   "outputs": [],
   "source": [
    "classes_={}"
   ]
  },
  {
   "cell_type": "code",
   "execution_count": null,
   "id": "0c4184cc-fa7e-496b-a0e4-6248d14247b5",
   "metadata": {},
   "outputs": [],
   "source": [
    "for i in range(len(count)):\n",
    "    if(count[i]!=0):\n",
    "        if (key2class[str(i)] in classes_.keys()):\n",
    "            classes_[key2class[str(i)]].append(i)\n",
    "        else:\n",
    "            classes_[key2class[str(i)]]=[i]"
   ]
  },
  {
   "cell_type": "code",
   "execution_count": null,
   "id": "c167403b-b2d0-4193-976f-dcb5bb064d74",
   "metadata": {},
   "outputs": [],
   "source": [
    "for key in classes_.keys():\n",
    "    classes_[key]=np.array(classes_[key])"
   ]
  },
  {
   "cell_type": "code",
   "execution_count": null,
   "id": "3f2e8724-b130-4d0d-abec-158693df0f75",
   "metadata": {},
   "outputs": [],
   "source": [
    "classes_.keys()"
   ]
  },
  {
   "cell_type": "code",
   "execution_count": null,
   "id": "205708f8-7889-481c-bc9a-a1fb575cf308",
   "metadata": {},
   "outputs": [],
   "source": [
    "classes_=dict(sorted(classes_.items(), key=lambda item: len(item[1])))"
   ]
  },
  {
   "cell_type": "code",
   "execution_count": null,
   "id": "941831f2-6652-4965-b275-a057c448f6d3",
   "metadata": {},
   "outputs": [],
   "source": [
    "classes_"
   ]
  },
  {
   "cell_type": "code",
   "execution_count": null,
   "id": "9452e746-35cd-4bad-ba40-3e170eb8c796",
   "metadata": {},
   "outputs": [],
   "source": [
    "len(lcclasses.keys())"
   ]
  },
  {
   "cell_type": "code",
   "execution_count": null,
   "id": "229a8eb2-1395-421a-baa6-c30dd0f933fd",
   "metadata": {},
   "outputs": [],
   "source": [
    "key2class[\"0\"]"
   ]
  },
  {
   "cell_type": "markdown",
   "id": "04c5025f-89a4-4c88-821a-147d4a473387",
   "metadata": {},
   "source": [
    "plot the curves where there are matches and see the matching"
   ]
  },
  {
   "cell_type": "code",
   "execution_count": null,
   "id": "331606ea-341f-4087-bcf6-f063dc0a3256",
   "metadata": {},
   "outputs": [],
   "source": [
    "#show a rho where there is no matching"
   ]
  },
  {
   "cell_type": "code",
   "execution_count": null,
   "id": "3dd19055-1fb1-462b-8c63-66a7aa8c3ae2",
   "metadata": {},
   "outputs": [],
   "source": [
    "lcclasses[\"rho\"]"
   ]
  },
  {
   "cell_type": "markdown",
   "id": "879ce571-74e2-4339-b7be-3e7a568ced4b",
   "metadata": {},
   "source": [
    "Getting a rho that isnt in "
   ]
  },
  {
   "cell_type": "code",
   "execution_count": null,
   "id": "59ed5107-5049-4583-9104-9e2647b8c811",
   "metadata": {},
   "outputs": [],
   "source": [
    "key=\"rho\"\n",
    "not_in={}\n",
    "not_in[key]=[]\n",
    "for el in lcclasses[key]:\n",
    "    if(not (el in classes_[key])):\n",
    "        not_in[key].append(el)"
   ]
  },
  {
   "cell_type": "code",
   "execution_count": null,
   "id": "69e6a3a5-32d6-41ae-b28f-800a809a478b",
   "metadata": {},
   "outputs": [],
   "source": [
    "classes_"
   ]
  },
  {
   "cell_type": "code",
   "execution_count": null,
   "id": "6900afb5-b8c1-4f5b-9f9e-a79958e86281",
   "metadata": {},
   "outputs": [],
   "source": [
    "key=\"rho\""
   ]
  },
  {
   "cell_type": "code",
   "execution_count": null,
   "id": "b63ddd9e-aa14-4525-874f-84971d147275",
   "metadata": {},
   "outputs": [],
   "source": [
    "%matplotlib widget\n",
    "plt.figure()\n",
    "plt.plot(distancestable[181])\n",
    "plt.show()"
   ]
  },
  {
   "cell_type": "markdown",
   "id": "552cbbe7-3f90-46e2-82c8-05d6f3875e07",
   "metadata": {},
   "source": [
    "#### add two plateau in thebeginning and and the end then apply clip (just one point in the beginning and one in the end)\n",
    "#### 400 450 500"
   ]
  },
  {
   "cell_type": "code",
   "execution_count": null,
   "id": "0cb6e099-f563-4c49-919c-dfea9729063d",
   "metadata": {},
   "outputs": [],
   "source": [
    "%matplotlib widget\n",
    "index=279\n",
    "low=utilities.get_low(index)\n",
    "legend=\"Class: \"+key+\"\\nLC Number:\"+str(index)+\"\\ndist minima: \"+str(min_distances_table[index])\n",
    "utilities.draw(shaplet,[],low,txt=legend,minimasposition=summarypositions[(summarylcindeces==index)])"
   ]
  },
  {
   "cell_type": "code",
   "execution_count": null,
   "id": "80ced454-4116-4659-b889-b4cc85bacde5",
   "metadata": {},
   "outputs": [],
   "source": []
  },
  {
   "cell_type": "code",
   "execution_count": null,
   "id": "933e7552-eb0d-41d2-812a-6db73715e2b0",
   "metadata": {},
   "outputs": [],
   "source": [
    "%matplotlib inline\n",
    "plt.figure()\n",
    "for index in classes_[key]:\n",
    "    low=utilities.get_low(index)\n",
    "    legend=\"Class: \"+key+\"\\nLC Number:\"+str(index)+\"\\ndist minima: \"+str(min_distances_table[index])\n",
    "    utilities.draw(shaplet,[],low,txt=legend,minimasposition=summarypositions[(summarylcindeces==index)])"
   ]
  },
  {
   "cell_type": "code",
   "execution_count": null,
   "id": "a76e5d89-52eb-4acf-87ba-9b1ef47491a2",
   "metadata": {},
   "outputs": [],
   "source": [
    "def drawwithcut(index,cut):\n",
    "    #TO NOT FORGET: MATPLOTLIB WIDGET & PLT FIGURE!!!\n",
    "    low=utilities.get_low(index)\n",
    "    legend=\"Class: \"+key+\"\\nLC Number:\"+str(index)+\"\\ndist minima: \"+str(min_distances_table[index])\n",
    "    utilities.draw(shaplet,[],low,txt=legend,minimasposition=summarypositions[(summarylcindeces==index)&(summaryminimas<=cut)])\n",
    "    "
   ]
  },
  {
   "cell_type": "code",
   "execution_count": null,
   "id": "fca00f2a-c8ae-49fe-b8f1-d9f5752dd148",
   "metadata": {},
   "outputs": [],
   "source": [
    "%matplotlib widget\n",
    "index=284\n",
    "low=utilities.get_low(index)\n",
    "legend=\"Class: \"+key+\"\\nLC Number:\"+str(index)+\"\\ndist minima: \"+str(min_distances_table[index])\n",
    "utilities.draw(shaplet,[],low,txt=legend,minimasposition=summarypositions[(summarylcindeces==index)&(summaryminimas<=45.01)])"
   ]
  },
  {
   "cell_type": "code",
   "execution_count": null,
   "id": "23e4a930-5349-4377-9464-39967965b329",
   "metadata": {},
   "outputs": [],
   "source": [
    "%matplotlib inline\n",
    "for index in not_in[key]:\n",
    "    low=utilities.get_low(index)\n",
    "    legend=\"Class: \"+key+\"\\nLC Number:\"+str(index)+\"\\ndist minima: \"+str(min_distances_table[index])\n",
    "    utilities.draw(shaplet,distancestable[index],low,txt=legend)"
   ]
  },
  {
   "cell_type": "code",
   "execution_count": null,
   "id": "e408412f-ce3d-443c-9ef3-884ffb891dac",
   "metadata": {
    "jupyter": {
     "outputs_hidden": true
    }
   },
   "outputs": [],
   "source": [
    "lcclasses"
   ]
  },
  {
   "cell_type": "markdown",
   "id": "99ecc7f6-7435-4244-9150-258acfb70ed8",
   "metadata": {},
   "source": [
    "Rho signals analysis"
   ]
  },
  {
   "cell_type": "code",
   "execution_count": null,
   "id": "c92c77df-a069-468f-a94d-e7002078b914",
   "metadata": {},
   "outputs": [],
   "source": [
    "#defining the noholes function "
   ]
  },
  {
   "cell_type": "code",
   "execution_count": null,
   "id": "98c5b4f1-cbbb-46af-b019-dd2d8c39a0db",
   "metadata": {},
   "outputs": [],
   "source": [
    "def noholes(selectedpositions):\n",
    "    if(len(selectedpositions)==0):   #NEED TO THINK ABOUT THE CASE WHERE I HAVE ONLY ONE ELEMENT\n",
    "        return False\n",
    "        \n",
    "    condition=1\n",
    "    selectedpositions=sorted(selectedpositions)\n",
    "    for i in range(len(selectedpositions)-1):\n",
    "        position= selectedpositions[i]\n",
    "        nextposition=selectedpositions[i+1]\n",
    "        if(abs((position+len(shaplet)-nextposition))/len(shaplet) > condition):\n",
    "       #     print(position,\" \",nextposition)\n",
    "       #     print(abs((position-nextposition))/len(shaplet))\n",
    "            return False\n",
    "    return True"
   ]
  },
  {
   "cell_type": "code",
   "execution_count": null,
   "id": "b9220af9-ba09-4a00-ae48-492f52a5471e",
   "metadata": {},
   "outputs": [],
   "source": [
    "#get positions of after doing a cut:"
   ]
  },
  {
   "cell_type": "markdown",
   "id": "e5784021-5d62-4ab9-b75a-8bde4d1b37d9",
   "metadata": {},
   "source": [
    "Defining rhomaxcut & rhomincut:"
   ]
  },
  {
   "cell_type": "code",
   "execution_count": null,
   "id": "6ad15834-c1b0-4838-813a-a729425cd59f",
   "metadata": {},
   "outputs": [],
   "source": [
    "np.where(summarylcindeces==181)[0]"
   ]
  },
  {
   "cell_type": "code",
   "execution_count": null,
   "id": "a61de70e-0adc-4d07-b25a-966e22e30956",
   "metadata": {},
   "outputs": [],
   "source": [
    "min(summaryminimas[np.where(summarylcindeces==181)[0]])"
   ]
  },
  {
   "cell_type": "code",
   "execution_count": null,
   "id": "9647ec9d-bdfa-4785-962a-1fa96bc3e614",
   "metadata": {},
   "outputs": [],
   "source": [
    "rhomaxcuts={}\n",
    "rhomincuts={}\n",
    "for el in lcclasses[\"rho\"]:\n",
    "    try:\n",
    "        rhomaxcuts[el]=max(summaryminimas[np.where(summarylcindeces==el)[0]])\n",
    "        rhomincuts[el]=min(summaryminimas[np.where(summarylcindeces==el)[0]])\n",
    "    except:\n",
    "        print(el)"
   ]
  },
  {
   "cell_type": "code",
   "execution_count": null,
   "id": "652caa76-a7aa-4c7d-9043-2c7e6cab0738",
   "metadata": {},
   "outputs": [],
   "source": [
    "def positionsforcut(lcindex,cut):\n",
    "    return summarypositions[(summarylcindeces==lcindex)&(summaryminimas<=cut)]"
   ]
  },
  {
   "cell_type": "code",
   "execution_count": null,
   "id": "c2574c96-5d44-43c2-a1a1-461da74dd9bd",
   "metadata": {},
   "outputs": [],
   "source": [
    "#find minimum cut between max and min for no holes"
   ]
  },
  {
   "cell_type": "code",
   "execution_count": null,
   "id": "6194b76c-2df5-493e-a7b7-dd2d79a1419e",
   "metadata": {},
   "outputs": [],
   "source": [
    "def getpositionsforcut(index,cut):\n",
    "    return np.array(sorted(positionsforcut(index,cut)))"
   ]
  },
  {
   "cell_type": "code",
   "execution_count": null,
   "id": "4fd6b98a-2cce-4d34-b98d-2e39b108d941",
   "metadata": {},
   "outputs": [],
   "source": [
    "getpositionsforcut(500,rhomaxcuts[500])"
   ]
  },
  {
   "cell_type": "code",
   "execution_count": null,
   "id": "86d18b59-aee0-46af-94f2-cd1d9e63ea0e",
   "metadata": {},
   "outputs": [],
   "source": [
    "noholes(positionsforcut(500,rhomaxcuts[500]))"
   ]
  },
  {
   "cell_type": "code",
   "execution_count": null,
   "id": "6710e409-8e7e-43d0-9471-15b9df262c49",
   "metadata": {},
   "outputs": [],
   "source": [
    "def findcut(index,precision=1e-2):\n",
    "    low=rhomincuts[index]\n",
    "    high=rhomaxcuts[index]\n",
    "    while high - low > precision:\n",
    "        print(low,end=\" \")\n",
    "        print(high)\n",
    "        mid = (low + high) / 2\n",
    "        if noholes(positionsforcut(index,mid)):  \n",
    "            high = mid  # Move left if `foo(mid)` is True\n",
    "        else:\n",
    "            low = mid   # Move right if `foo(mid)` is False\n",
    "    return high"
   ]
  },
  {
   "cell_type": "code",
   "execution_count": null,
   "id": "16947c8f-d224-4e3f-9d3e-d58943b22ea8",
   "metadata": {},
   "outputs": [],
   "source": [
    "findcut(500)"
   ]
  },
  {
   "cell_type": "code",
   "execution_count": null,
   "id": "c1410e10-65a8-4137-aade-9e77b6b7fc64",
   "metadata": {},
   "outputs": [],
   "source": [
    "chi_2=[]"
   ]
  },
  {
   "cell_type": "code",
   "execution_count": null,
   "id": "e514a595-d98b-42be-afef-359432f4bfd2",
   "metadata": {},
   "outputs": [],
   "source": [
    "#finding the numebr of times shaplet was found in a curve\n",
    "print(np.sum(summarylcindeces==181))\n",
    "#finding the number of chi2 cut equivalent shaplet in a signal\n",
    "max(summaryminimas[(summarylcindeces==181).nonzero()[0]])"
   ]
  },
  {
   "cell_type": "code",
   "execution_count": null,
   "id": "b65c1f08-fc29-4928-bc95-92e609cf42fd",
   "metadata": {},
   "outputs": [],
   "source": [
    "rhoefficientcut={}"
   ]
  },
  {
   "cell_type": "code",
   "execution_count": null,
   "id": "d44400cf-55cf-4e77-af21-bfe97bffc041",
   "metadata": {
    "jupyter": {
     "outputs_hidden": true
    }
   },
   "outputs": [],
   "source": [
    "for index in lcclasses[\"rho\"]:\n",
    "    if(not noholes(getpositionsforcut(index,rhomaxcuts[index]))):\n",
    "        rhoefficientcut[index]=-1\n",
    "        continue\n",
    "    rhoefficientcut[index]=findcut(index)"
   ]
  },
  {
   "cell_type": "code",
   "execution_count": null,
   "id": "2ba31bf5-1d07-4b75-8e87-7d14ab92420c",
   "metadata": {},
   "outputs": [],
   "source": [
    "len(utilities.get_low(438))"
   ]
  },
  {
   "cell_type": "code",
   "execution_count": null,
   "id": "37e5c7a2-cb40-4759-9eb3-46c2f297fe8c",
   "metadata": {},
   "outputs": [],
   "source": []
  },
  {
   "cell_type": "code",
   "execution_count": null,
   "id": "7cbdfa63-7d40-4a2e-80fe-30d2b63d6a3d",
   "metadata": {},
   "outputs": [],
   "source": [
    "rhochi2data = pd.DataFrame({'minimum cut': rhomincuts, 'efficient cut': rhoefficientcut,'max cut':rhomaxcuts})"
   ]
  },
  {
   "cell_type": "code",
   "execution_count": null,
   "id": "eddefeed-d4ba-412c-a4d9-8d74c5840d5d",
   "metadata": {},
   "outputs": [],
   "source": [
    "rhochi2data"
   ]
  },
  {
   "cell_type": "code",
   "execution_count": null,
   "id": "3eb1b4e9-3525-41b7-9fc9-821c4ce79bb1",
   "metadata": {
    "jupyter": {
     "outputs_hidden": true
    }
   },
   "outputs": [],
   "source": [
    "%matplotlib inline\n",
    "plt.figure()\n",
    "for ind in lcclasses[\"rho\"]:\n",
    "    if(not ind in rhoefficientcut.keys()):\n",
    "        continue\n",
    "    if(rhoefficientcut[ind]==-1):\n",
    "        continue\n",
    "    drawwithcut(ind,rhoefficientcut[ind])"
   ]
  },
  {
   "cell_type": "code",
   "execution_count": null,
   "id": "c6e13fd9-b3b6-4cb0-a106-91436cbbb55f",
   "metadata": {},
   "outputs": [],
   "source": [
    "np.sort(summarypositions[np.where(summarylcindeces==412)])"
   ]
  },
  {
   "cell_type": "code",
   "execution_count": null,
   "id": "b8bbecf2-510e-4d27-bf70-d1d94a1c9da9",
   "metadata": {},
   "outputs": [],
   "source": [
    "%matplotlib widget\n",
    "index=287\n",
    "plt.figure()\n",
    "plt.plot(distancestable[index])\n",
    "plt.scatter(summarypositions[np.where(summarylcindeces==index)],distancestable[index][summarypositions[np.where(summarylcindeces==index)]])\n",
    "plt.show()"
   ]
  },
  {
   "cell_type": "code",
   "execution_count": null,
   "id": "f4316313-f490-41b3-aad7-640133a6664a",
   "metadata": {},
   "outputs": [],
   "source": [
    "%matplotlib widget\n",
    "index=287\n",
    "plt.figure()\n",
    "drawwithcut(index,findcut(index,5))"
   ]
  },
  {
   "cell_type": "code",
   "execution_count": null,
   "id": "65088cef-c2e7-4052-afd0-aa9e20a799b5",
   "metadata": {},
   "outputs": [],
   "source": [
    "findcut(279)"
   ]
  },
  {
   "cell_type": "code",
   "execution_count": null,
   "id": "6eecc8cb-49df-42d4-a8e0-584e72feab15",
   "metadata": {},
   "outputs": [],
   "source": []
  },
  {
   "cell_type": "code",
   "execution_count": null,
   "id": "93b4c960-ea93-4c5e-9fdd-0f814b47861f",
   "metadata": {},
   "outputs": [],
   "source": [
    "getpositionsforcut(279,4.567)"
   ]
  },
  {
   "cell_type": "markdown",
   "id": "90e65d32-4567-4ddf-a997-c4467ac65968",
   "metadata": {},
   "source": [
    "##### SAVE THE PLOTS AND IMPORTANT FIGURES TO WHY WE CHOOSE A CERTAIN CUT "
   ]
  },
  {
   "cell_type": "code",
   "execution_count": null,
   "id": "9f18ba12-668f-4c8a-b7d7-88dca7adf968",
   "metadata": {},
   "outputs": [],
   "source": [
    "findcut(index,2)"
   ]
  },
  {
   "cell_type": "code",
   "execution_count": null,
   "id": "b43c1d37-8208-4a95-8cfe-5303c2bc8b01",
   "metadata": {},
   "outputs": [],
   "source": [
    "numberofshaplets={}"
   ]
  },
  {
   "cell_type": "code",
   "execution_count": null,
   "id": "3c1cf65d-db3a-48b4-b82e-5bf0869e18da",
   "metadata": {},
   "outputs": [],
   "source": [
    "qualityofshaplet={}"
   ]
  },
  {
   "cell_type": "code",
   "execution_count": null,
   "id": "1a0ded03-63e3-48e4-b2a6-8e5ca95c1aba",
   "metadata": {},
   "outputs": [],
   "source": [
    "getpositionsforcut(181,rhoefficientcut[181])"
   ]
  },
  {
   "cell_type": "code",
   "execution_count": null,
   "id": "ab980dcc-a68a-4b77-b71d-40e36d90b629",
   "metadata": {},
   "outputs": [],
   "source": [
    "for el in lcclasses[\"rho\"]:\n",
    "    if(not el in rhomaxcuts.keys()):\n",
    "        continue # WHYYYYYYYYYYYYYYYYYYYYYYYYYYYYYYYYYYYYYYYYYY !!! VERIFY TIS STUPID CASE\n",
    "    if(rhomaxcuts[el]<=9):\n",
    "        numberofshaplets[el]=len(getpositionsforcut(el,rhomaxcuts[el]))\n",
    "        qualityofshaplet[el]=numberofshaplets[el]/(len(utilities.get_low(el))/len(shaplet))"
   ]
  },
  {
   "cell_type": "code",
   "execution_count": null,
   "id": "4bd3fcd5-7b48-459e-9af2-8cb807e4e28d",
   "metadata": {},
   "outputs": [],
   "source": [
    "qualityofshaplet"
   ]
  },
  {
   "cell_type": "code",
   "execution_count": null,
   "id": "4830aabe-81d4-4e76-be50-9918664f45de",
   "metadata": {},
   "outputs": [],
   "source": [
    "qualityshapletwithefficient={181: 0.8335302330576737,\n",
    " 182: 0.9373107547381405,\n",
    " 183: 1.004261522933722,\n",
    " 184: 0.2556745182012848,\n",
    " 185: 0.699000270197244,\n",
    " 272: 0.7963792282039065,\n",
    " 279: 0.6588365126911555,\n",
    " 280: 0.0,\n",
    " 283: 0.0,\n",
    " 284: 0.0,\n",
    " 287: 0.0,\n",
    " 288: 0.0,\n",
    " 299: 0.0,\n",
    " 401: 0.0,\n",
    " 411: 0.0,\n",
    " 412: 0.0,\n",
    " 413: 0.0,\n",
    " 435: 0.0,\n",
    " 439: 0.0,\n",
    " 499: 0.0}\n"
   ]
  },
  {
   "cell_type": "code",
   "execution_count": null,
   "id": "f712e2a1-f897-4851-ae9d-b20b2864cd0e",
   "metadata": {},
   "outputs": [],
   "source": [
    "plt.figure()\n",
    "plt.hist(qualityofshaplet.values())"
   ]
  },
  {
   "cell_type": "code",
   "execution_count": null,
   "id": "5e125a83-24a1-4e53-8e75-ad5fcd328dcb",
   "metadata": {},
   "outputs": [],
   "source": []
  },
  {
   "cell_type": "code",
   "execution_count": null,
   "id": "0cdb5801-bcd6-44d3-baed-8429d1ec98a8",
   "metadata": {},
   "outputs": [],
   "source": [
    "If you are happy with the results shut the kernel and reopen,for validity for other input,NO GLOBAL VARIABLES AND BETTER USE FUNCTIONAL PROGRAMMING PRINCIPLES\n"
   ]
  },
  {
   "cell_type": "code",
   "execution_count": null,
   "id": "51e102fa-6e7e-4f11-9338-f6bfce48f117",
   "metadata": {},
   "outputs": [],
   "source": []
  },
  {
   "cell_type": "code",
   "execution_count": null,
   "id": "6969885e-6d52-493e-9821-924b6215b116",
   "metadata": {},
   "outputs": [],
   "source": [
    "plt.figure()\n",
    "plt.plot(shaplet)\n",
    "plt.show()"
   ]
  },
  {
   "cell_type": "code",
   "execution_count": null,
   "id": "6c3422d7-a93d-42ac-8133-482d0416c2d9",
   "metadata": {},
   "outputs": [],
   "source": []
  }
 ],
 "metadata": {
  "kernelspec": {
   "display_name": "Python 3 (ipykernel)",
   "language": "python",
   "name": "python3"
  },
  "language_info": {
   "codemirror_mode": {
    "name": "ipython",
    "version": 3
   },
   "file_extension": ".py",
   "mimetype": "text/x-python",
   "name": "python",
   "nbconvert_exporter": "python",
   "pygments_lexer": "ipython3",
   "version": "3.10.15"
  }
 },
 "nbformat": 4,
 "nbformat_minor": 5
}
